{
 "cells": [
  {
   "cell_type": "code",
   "execution_count": 5,
   "metadata": {
    "_cell_guid": "b1076dfc-b9ad-4769-8c92-a6c4dae69d19",
    "_uuid": "8f2839f25d086af736a60e9eeb907d3b93b6e0e5",
    "execution": {
     "iopub.execute_input": "2021-01-20T15:39:59.217330Z",
     "iopub.status.busy": "2021-01-20T15:39:59.216367Z",
     "iopub.status.idle": "2021-01-20T15:40:00.719372Z",
     "shell.execute_reply": "2021-01-20T15:40:00.718837Z"
    },
    "papermill": {
     "duration": 1.536151,
     "end_time": "2021-01-20T15:40:00.719500",
     "exception": false,
     "start_time": "2021-01-20T15:39:59.183349",
     "status": "completed"
    },
    "tags": []
   },
   "outputs": [
    {
     "name": "stdout",
     "output_type": "stream",
     "text": [
      "C:\\project\\FlightDelayPrediction.ipynb\n",
      "C:\\project\\Jan_2019_ontime.csv\n"
     ]
    }
   ],
   "source": [
    "import pandas as pd\n",
    "import seaborn as sns\n",
    "import numpy as np\n",
    "from matplotlib import cm\n",
    "import matplotlib.pyplot as plt\n",
    "from sklearn.naive_bayes import GaussianNB\n",
    "from sklearn.metrics import accuracy_score,confusion_matrix\n",
    "from sklearn.preprocessing import LabelEncoder\n",
    "from sklearn.model_selection import train_test_split , GridSearchCV\n",
    "import sklearn.ensemble as sk\n",
    "from sklearn.tree import DecisionTreeClassifier\n",
    "from sklearn.ensemble import AdaBoostClassifier\n",
    "from sklearn.neighbors import KNeighborsClassifier\n",
    "from sklearn.metrics import classification_report , recall_score ,  precision_score\n",
    "from sklearn.ensemble import GradientBoostingClassifier\n",
    "from sklearn.metrics import classification_report\n",
    "import seaborn as sns\n",
    "\n",
    "import os\n",
    "for dirname, _, filenames in os.walk('C:\\project'):\n",
    "    for filename in filenames:\n",
    "        print(os.path.join(dirname, filename))"
   ]
  },
  {
   "cell_type": "markdown",
   "metadata": {
    "papermill": {
     "duration": 0.028598,
     "end_time": "2021-01-20T15:40:00.780122",
     "exception": false,
     "start_time": "2021-01-20T15:40:00.751524",
     "status": "completed"
    },
    "tags": []
   },
   "source": [
    "# **Data Preparation:**"
   ]
  },
  {
   "cell_type": "markdown",
   "metadata": {
    "papermill": {
     "duration": 0.029559,
     "end_time": "2021-01-20T15:40:00.838396",
     "exception": false,
     "start_time": "2021-01-20T15:40:00.808837",
     "status": "completed"
    },
    "tags": []
   },
   "source": [
    "Preparing the data for modeling"
   ]
  },
  {
   "cell_type": "code",
   "execution_count": 6,
   "metadata": {
    "_cell_guid": "79c7e3d0-c299-4dcb-8224-4455121ee9b0",
    "_uuid": "d629ff2d2480ee46fbb7e2d37f6b5fab8052498a",
    "execution": {
     "iopub.execute_input": "2021-01-20T15:40:00.901067Z",
     "iopub.status.busy": "2021-01-20T15:40:00.900399Z",
     "iopub.status.idle": "2021-01-20T15:40:03.313310Z",
     "shell.execute_reply": "2021-01-20T15:40:03.312799Z"
    },
    "papermill": {
     "duration": 2.445628,
     "end_time": "2021-01-20T15:40:03.313418",
     "exception": false,
     "start_time": "2021-01-20T15:40:00.867790",
     "status": "completed"
    },
    "tags": []
   },
   "outputs": [
    {
     "data": {
      "text/html": [
       "<div>\n",
       "<style scoped>\n",
       "    .dataframe tbody tr th:only-of-type {\n",
       "        vertical-align: middle;\n",
       "    }\n",
       "\n",
       "    .dataframe tbody tr th {\n",
       "        vertical-align: top;\n",
       "    }\n",
       "\n",
       "    .dataframe thead th {\n",
       "        text-align: right;\n",
       "    }\n",
       "</style>\n",
       "<table border=\"1\" class=\"dataframe\">\n",
       "  <thead>\n",
       "    <tr style=\"text-align: right;\">\n",
       "      <th></th>\n",
       "      <th>DAY_OF_MONTH</th>\n",
       "      <th>DAY_OF_WEEK</th>\n",
       "      <th>OP_UNIQUE_CARRIER</th>\n",
       "      <th>OP_CARRIER_AIRLINE_ID</th>\n",
       "      <th>OP_CARRIER</th>\n",
       "      <th>TAIL_NUM</th>\n",
       "      <th>OP_CARRIER_FL_NUM</th>\n",
       "      <th>ORIGIN_AIRPORT_ID</th>\n",
       "      <th>ORIGIN_AIRPORT_SEQ_ID</th>\n",
       "      <th>ORIGIN</th>\n",
       "      <th>...</th>\n",
       "      <th>DEST</th>\n",
       "      <th>DEP_TIME</th>\n",
       "      <th>DEP_DEL15</th>\n",
       "      <th>DEP_TIME_BLK</th>\n",
       "      <th>ARR_TIME</th>\n",
       "      <th>ARR_DEL15</th>\n",
       "      <th>CANCELLED</th>\n",
       "      <th>DIVERTED</th>\n",
       "      <th>DISTANCE</th>\n",
       "      <th>Unnamed: 21</th>\n",
       "    </tr>\n",
       "  </thead>\n",
       "  <tbody>\n",
       "    <tr>\n",
       "      <th>0</th>\n",
       "      <td>1</td>\n",
       "      <td>2</td>\n",
       "      <td>9E</td>\n",
       "      <td>20363</td>\n",
       "      <td>9E</td>\n",
       "      <td>N8688C</td>\n",
       "      <td>3280</td>\n",
       "      <td>11953</td>\n",
       "      <td>1195302</td>\n",
       "      <td>GNV</td>\n",
       "      <td>...</td>\n",
       "      <td>ATL</td>\n",
       "      <td>601.0</td>\n",
       "      <td>0.0</td>\n",
       "      <td>0600-0659</td>\n",
       "      <td>722.0</td>\n",
       "      <td>0.0</td>\n",
       "      <td>0.0</td>\n",
       "      <td>0.0</td>\n",
       "      <td>300.0</td>\n",
       "      <td>NaN</td>\n",
       "    </tr>\n",
       "    <tr>\n",
       "      <th>1</th>\n",
       "      <td>1</td>\n",
       "      <td>2</td>\n",
       "      <td>9E</td>\n",
       "      <td>20363</td>\n",
       "      <td>9E</td>\n",
       "      <td>N348PQ</td>\n",
       "      <td>3281</td>\n",
       "      <td>13487</td>\n",
       "      <td>1348702</td>\n",
       "      <td>MSP</td>\n",
       "      <td>...</td>\n",
       "      <td>CVG</td>\n",
       "      <td>1359.0</td>\n",
       "      <td>0.0</td>\n",
       "      <td>1400-1459</td>\n",
       "      <td>1633.0</td>\n",
       "      <td>0.0</td>\n",
       "      <td>0.0</td>\n",
       "      <td>0.0</td>\n",
       "      <td>596.0</td>\n",
       "      <td>NaN</td>\n",
       "    </tr>\n",
       "    <tr>\n",
       "      <th>2</th>\n",
       "      <td>1</td>\n",
       "      <td>2</td>\n",
       "      <td>9E</td>\n",
       "      <td>20363</td>\n",
       "      <td>9E</td>\n",
       "      <td>N8896A</td>\n",
       "      <td>3282</td>\n",
       "      <td>11433</td>\n",
       "      <td>1143302</td>\n",
       "      <td>DTW</td>\n",
       "      <td>...</td>\n",
       "      <td>CVG</td>\n",
       "      <td>1215.0</td>\n",
       "      <td>0.0</td>\n",
       "      <td>1200-1259</td>\n",
       "      <td>1329.0</td>\n",
       "      <td>0.0</td>\n",
       "      <td>0.0</td>\n",
       "      <td>0.0</td>\n",
       "      <td>229.0</td>\n",
       "      <td>NaN</td>\n",
       "    </tr>\n",
       "    <tr>\n",
       "      <th>3</th>\n",
       "      <td>1</td>\n",
       "      <td>2</td>\n",
       "      <td>9E</td>\n",
       "      <td>20363</td>\n",
       "      <td>9E</td>\n",
       "      <td>N8886A</td>\n",
       "      <td>3283</td>\n",
       "      <td>15249</td>\n",
       "      <td>1524906</td>\n",
       "      <td>TLH</td>\n",
       "      <td>...</td>\n",
       "      <td>ATL</td>\n",
       "      <td>1521.0</td>\n",
       "      <td>0.0</td>\n",
       "      <td>1500-1559</td>\n",
       "      <td>1625.0</td>\n",
       "      <td>0.0</td>\n",
       "      <td>0.0</td>\n",
       "      <td>0.0</td>\n",
       "      <td>223.0</td>\n",
       "      <td>NaN</td>\n",
       "    </tr>\n",
       "    <tr>\n",
       "      <th>4</th>\n",
       "      <td>1</td>\n",
       "      <td>2</td>\n",
       "      <td>9E</td>\n",
       "      <td>20363</td>\n",
       "      <td>9E</td>\n",
       "      <td>N8974C</td>\n",
       "      <td>3284</td>\n",
       "      <td>10397</td>\n",
       "      <td>1039707</td>\n",
       "      <td>ATL</td>\n",
       "      <td>...</td>\n",
       "      <td>FSM</td>\n",
       "      <td>1847.0</td>\n",
       "      <td>0.0</td>\n",
       "      <td>1900-1959</td>\n",
       "      <td>1940.0</td>\n",
       "      <td>0.0</td>\n",
       "      <td>0.0</td>\n",
       "      <td>0.0</td>\n",
       "      <td>579.0</td>\n",
       "      <td>NaN</td>\n",
       "    </tr>\n",
       "  </tbody>\n",
       "</table>\n",
       "<p>5 rows × 22 columns</p>\n",
       "</div>"
      ],
      "text/plain": [
       "   DAY_OF_MONTH  DAY_OF_WEEK OP_UNIQUE_CARRIER  OP_CARRIER_AIRLINE_ID  \\\n",
       "0             1            2                9E                  20363   \n",
       "1             1            2                9E                  20363   \n",
       "2             1            2                9E                  20363   \n",
       "3             1            2                9E                  20363   \n",
       "4             1            2                9E                  20363   \n",
       "\n",
       "  OP_CARRIER TAIL_NUM  OP_CARRIER_FL_NUM  ORIGIN_AIRPORT_ID  \\\n",
       "0         9E   N8688C               3280              11953   \n",
       "1         9E   N348PQ               3281              13487   \n",
       "2         9E   N8896A               3282              11433   \n",
       "3         9E   N8886A               3283              15249   \n",
       "4         9E   N8974C               3284              10397   \n",
       "\n",
       "   ORIGIN_AIRPORT_SEQ_ID ORIGIN  ...  DEST  DEP_TIME DEP_DEL15  DEP_TIME_BLK  \\\n",
       "0                1195302    GNV  ...   ATL     601.0       0.0     0600-0659   \n",
       "1                1348702    MSP  ...   CVG    1359.0       0.0     1400-1459   \n",
       "2                1143302    DTW  ...   CVG    1215.0       0.0     1200-1259   \n",
       "3                1524906    TLH  ...   ATL    1521.0       0.0     1500-1559   \n",
       "4                1039707    ATL  ...   FSM    1847.0       0.0     1900-1959   \n",
       "\n",
       "   ARR_TIME ARR_DEL15  CANCELLED  DIVERTED  DISTANCE  Unnamed: 21  \n",
       "0     722.0       0.0        0.0       0.0     300.0          NaN  \n",
       "1    1633.0       0.0        0.0       0.0     596.0          NaN  \n",
       "2    1329.0       0.0        0.0       0.0     229.0          NaN  \n",
       "3    1625.0       0.0        0.0       0.0     223.0          NaN  \n",
       "4    1940.0       0.0        0.0       0.0     579.0          NaN  \n",
       "\n",
       "[5 rows x 22 columns]"
      ]
     },
     "execution_count": 6,
     "metadata": {},
     "output_type": "execute_result"
    }
   ],
   "source": [
    "# Read data\n",
    "\n",
    "flight_details_january_2019 = pd.read_csv('C:\\project\\Jan_2019_ontime.csv')\n",
    "\n",
    "flight_details_january_2019.head()"
   ]
  },
  {
   "cell_type": "code",
   "execution_count": 7,
   "metadata": {
    "execution": {
     "iopub.execute_input": "2021-01-20T15:40:03.379559Z",
     "iopub.status.busy": "2021-01-20T15:40:03.378706Z",
     "iopub.status.idle": "2021-01-20T15:40:03.382967Z",
     "shell.execute_reply": "2021-01-20T15:40:03.382472Z"
    },
    "papermill": {
     "duration": 0.039105,
     "end_time": "2021-01-20T15:40:03.383077",
     "exception": false,
     "start_time": "2021-01-20T15:40:03.343972",
     "status": "completed"
    },
    "tags": []
   },
   "outputs": [
    {
     "data": {
      "text/plain": [
       "Index(['DAY_OF_MONTH', 'DAY_OF_WEEK', 'OP_UNIQUE_CARRIER',\n",
       "       'OP_CARRIER_AIRLINE_ID', 'OP_CARRIER', 'TAIL_NUM', 'OP_CARRIER_FL_NUM',\n",
       "       'ORIGIN_AIRPORT_ID', 'ORIGIN_AIRPORT_SEQ_ID', 'ORIGIN',\n",
       "       'DEST_AIRPORT_ID', 'DEST_AIRPORT_SEQ_ID', 'DEST', 'DEP_TIME',\n",
       "       'DEP_DEL15', 'DEP_TIME_BLK', 'ARR_TIME', 'ARR_DEL15', 'CANCELLED',\n",
       "       'DIVERTED', 'DISTANCE', 'Unnamed: 21'],\n",
       "      dtype='object')"
      ]
     },
     "execution_count": 7,
     "metadata": {},
     "output_type": "execute_result"
    }
   ],
   "source": [
    "# check the columns:\n",
    "flight_details_january_2019.columns"
   ]
  },
  {
   "cell_type": "code",
   "execution_count": 8,
   "metadata": {
    "execution": {
     "iopub.execute_input": "2021-01-20T15:40:03.450368Z",
     "iopub.status.busy": "2021-01-20T15:40:03.449158Z",
     "iopub.status.idle": "2021-01-20T15:40:03.679016Z",
     "shell.execute_reply": "2021-01-20T15:40:03.679636Z"
    },
    "papermill": {
     "duration": 0.265757,
     "end_time": "2021-01-20T15:40:03.679808",
     "exception": false,
     "start_time": "2021-01-20T15:40:03.414051",
     "status": "completed"
    },
    "tags": []
   },
   "outputs": [
    {
     "name": "stdout",
     "output_type": "stream",
     "text": [
      "<class 'pandas.core.frame.DataFrame'>\n",
      "RangeIndex: 583985 entries, 0 to 583984\n",
      "Data columns (total 22 columns):\n",
      " #   Column                 Non-Null Count   Dtype  \n",
      "---  ------                 --------------   -----  \n",
      " 0   DAY_OF_MONTH           583985 non-null  int64  \n",
      " 1   DAY_OF_WEEK            583985 non-null  int64  \n",
      " 2   OP_UNIQUE_CARRIER      583985 non-null  object \n",
      " 3   OP_CARRIER_AIRLINE_ID  583985 non-null  int64  \n",
      " 4   OP_CARRIER             583985 non-null  object \n",
      " 5   TAIL_NUM               581442 non-null  object \n",
      " 6   OP_CARRIER_FL_NUM      583985 non-null  int64  \n",
      " 7   ORIGIN_AIRPORT_ID      583985 non-null  int64  \n",
      " 8   ORIGIN_AIRPORT_SEQ_ID  583985 non-null  int64  \n",
      " 9   ORIGIN                 583985 non-null  object \n",
      " 10  DEST_AIRPORT_ID        583985 non-null  int64  \n",
      " 11  DEST_AIRPORT_SEQ_ID    583985 non-null  int64  \n",
      " 12  DEST                   583985 non-null  object \n",
      " 13  DEP_TIME               567633 non-null  float64\n",
      " 14  DEP_DEL15              567630 non-null  float64\n",
      " 15  DEP_TIME_BLK           583985 non-null  object \n",
      " 16  ARR_TIME               566924 non-null  float64\n",
      " 17  ARR_DEL15              565963 non-null  float64\n",
      " 18  CANCELLED              583985 non-null  float64\n",
      " 19  DIVERTED               583985 non-null  float64\n",
      " 20  DISTANCE               583985 non-null  float64\n",
      " 21  Unnamed: 21            0 non-null       float64\n",
      "dtypes: float64(8), int64(8), object(6)\n",
      "memory usage: 98.0+ MB\n"
     ]
    }
   ],
   "source": [
    "# check type of columns:\n",
    "flight_details_january_2019.info()"
   ]
  },
  {
   "cell_type": "markdown",
   "metadata": {
    "papermill": {
     "duration": 0.030021,
     "end_time": "2021-01-20T15:40:03.740393",
     "exception": false,
     "start_time": "2021-01-20T15:40:03.710372",
     "status": "completed"
    },
    "tags": []
   },
   "source": [
    "Understanding for Prediction:\n",
    "* We have dataset of flights from januray 2019 and we want to predict if some flight will delayed or not. \n",
    "* In this dataset, we have 2 columns of delay: 1 column for departure delay [DEP_DEL15], and 1 column for arrivel delay [ARR_DEL15] \n",
    "* We want to predict if any flights will be delayed in any time - arrival or departure. So creating a new classifier, named under \"delayed\" with 2 result:\n",
    "\n",
    "1.  Delayed - 1 the flight will delay\n",
    "2.  Delayed - 0 the flight will not delay"
   ]
  },
  {
   "cell_type": "code",
   "execution_count": 9,
   "metadata": {
    "execution": {
     "iopub.execute_input": "2021-01-20T15:40:03.807731Z",
     "iopub.status.busy": "2021-01-20T15:40:03.807139Z",
     "iopub.status.idle": "2021-01-20T15:40:03.818939Z",
     "shell.execute_reply": "2021-01-20T15:40:03.818262Z"
    },
    "papermill": {
     "duration": 0.048147,
     "end_time": "2021-01-20T15:40:03.819053",
     "exception": false,
     "start_time": "2021-01-20T15:40:03.770906",
     "status": "completed"
    },
    "tags": []
   },
   "outputs": [],
   "source": [
    "flight_details_january_2019['DELAYED'] = (flight_details_january_2019['ARR_DEL15'].astype(bool) | flight_details_january_2019['DEP_DEL15'].astype(bool)).astype(int)\n"
   ]
  },
  {
   "cell_type": "markdown",
   "metadata": {
    "papermill": {
     "duration": 0.030589,
     "end_time": "2021-01-20T15:40:03.881173",
     "exception": false,
     "start_time": "2021-01-20T15:40:03.850584",
     "status": "completed"
    },
    "tags": []
   },
   "source": [
    "Removing the canceled and diverted flights, because we are looking for flights that succesfuly departed"
   ]
  },
  {
   "cell_type": "code",
   "execution_count": 10,
   "metadata": {
    "execution": {
     "iopub.execute_input": "2021-01-20T15:40:03.964848Z",
     "iopub.status.busy": "2021-01-20T15:40:03.964083Z",
     "iopub.status.idle": "2021-01-20T15:40:04.241623Z",
     "shell.execute_reply": "2021-01-20T15:40:04.242166Z"
    },
    "papermill": {
     "duration": 0.316163,
     "end_time": "2021-01-20T15:40:04.242313",
     "exception": false,
     "start_time": "2021-01-20T15:40:03.926150",
     "status": "completed"
    },
    "tags": []
   },
   "outputs": [
    {
     "name": "stdout",
     "output_type": "stream",
     "text": [
      "The number of rows before deleted 'Cancelled' column and `DIVERTED` is 583985\n",
      "The number of rows after deleted 'Cancelled' column and `DIVERTED` is 565963\n"
     ]
    }
   ],
   "source": [
    "print(\"The number of rows before deleted 'Cancelled' column and `DIVERTED` is \" + str(flight_details_january_2019.shape[0]) )\n",
    "\n",
    "flight_details_january_2019.drop(flight_details_january_2019[flight_details_january_2019.CANCELLED == 1].index, inplace=True)\n",
    "\n",
    "flight_details_january_2019.drop(flight_details_january_2019[flight_details_january_2019.DIVERTED == 1].index, inplace=True)\n",
    "\n",
    "print(\"The number of rows after deleted 'Cancelled' column and `DIVERTED` is \" + str(flight_details_january_2019.shape[0]) )\n"
   ]
  },
  {
   "cell_type": "markdown",
   "metadata": {
    "papermill": {
     "duration": 0.030925,
     "end_time": "2021-01-20T15:40:04.304544",
     "exception": false,
     "start_time": "2021-01-20T15:40:04.273619",
     "status": "completed"
    },
    "tags": []
   },
   "source": [
    "Lets get rid of unuseful columns, that not impact on the results:\n",
    "* **OP_CARRIER_AIRLINE_ID** - The id of the airline , because we will use the name of airline , for correltions and plots , more clearly to understand ariline name code than the airline id , and after that we will convert the name to numeric value\n",
    "* **TAIL_NUM** - dosnt give us any information\n",
    "* **OP_CARRIER_FL_NUM** - dosnt give us any information\n",
    "* **ORIGIN_AIRPORT_ID** , **'ORIGIN_AIRPORT_ID'** ,**ORIGIN_AIRPORT_SEQ_ID','DEST_AIRPORT_ID','DEST_AIRPORT_SEQ_ID'** - we have instead the origin and destination airport ATA code , more clearly for understading in plots.\n",
    "* **Unnamed: 21** - Unrelevant column\n",
    "* **OP_CARRIER** - same as OP_UNIQUE_CARRIER\n",
    "* **DEP_DEL15** - We convert the DEP and ARR to DELAYED Column\n",
    "* **ARR_DEL15** - We convert the DEP and ARR to DELAYED Column\n",
    "* **CANCELED**  - We check only for delayed flight , so Canceled flight are dont relevant\n",
    "* **DIVERTED**  - We check only for delayed flight , so Canceled flight are dont relevant"
   ]
  },
  {
   "cell_type": "code",
   "execution_count": 11,
   "metadata": {
    "execution": {
     "iopub.execute_input": "2021-01-20T15:40:04.379705Z",
     "iopub.status.busy": "2021-01-20T15:40:04.378999Z",
     "iopub.status.idle": "2021-01-20T15:40:04.415172Z",
     "shell.execute_reply": "2021-01-20T15:40:04.414569Z"
    },
    "papermill": {
     "duration": 0.079065,
     "end_time": "2021-01-20T15:40:04.415287",
     "exception": false,
     "start_time": "2021-01-20T15:40:04.336222",
     "status": "completed"
    },
    "tags": []
   },
   "outputs": [],
   "source": [
    "flight_details_january_2019.drop(['OP_CARRIER_AIRLINE_ID','TAIL_NUM','OP_CARRIER_FL_NUM','ORIGIN_AIRPORT_ID','ORIGIN_AIRPORT_SEQ_ID','DEST_AIRPORT_ID','DEST_AIRPORT_SEQ_ID','Unnamed: 21','OP_CARRIER','ARR_DEL15','DEP_DEL15','CANCELLED', 'DIVERTED'], axis='columns', inplace=True)\n"
   ]
  },
  {
   "cell_type": "markdown",
   "metadata": {
    "papermill": {
     "duration": 0.031332,
     "end_time": "2021-01-20T15:40:04.478132",
     "exception": false,
     "start_time": "2021-01-20T15:40:04.446800",
     "status": "completed"
    },
    "tags": []
   },
   "source": [
    "**Checking distribution of the target variable:**\n"
   ]
  },
  {
   "cell_type": "code",
   "execution_count": 12,
   "metadata": {
    "execution": {
     "iopub.execute_input": "2021-01-20T15:40:04.546908Z",
     "iopub.status.busy": "2021-01-20T15:40:04.546230Z",
     "iopub.status.idle": "2021-01-20T15:40:04.555335Z",
     "shell.execute_reply": "2021-01-20T15:40:04.555903Z"
    },
    "papermill": {
     "duration": 0.046402,
     "end_time": "2021-01-20T15:40:04.556050",
     "exception": false,
     "start_time": "2021-01-20T15:40:04.509648",
     "status": "completed"
    },
    "tags": []
   },
   "outputs": [
    {
     "data": {
      "text/plain": [
       "0    440724\n",
       "1    125239\n",
       "Name: DELAYED, dtype: int64"
      ]
     },
     "execution_count": 12,
     "metadata": {},
     "output_type": "execute_result"
    }
   ],
   "source": [
    "flight_details_january_2019['DELAYED'].value_counts()"
   ]
  },
  {
   "cell_type": "markdown",
   "metadata": {
    "papermill": {
     "duration": 0.032033,
     "end_time": "2021-01-20T15:40:04.619823",
     "exception": false,
     "start_time": "2021-01-20T15:40:04.587790",
     "status": "completed"
    },
    "tags": []
   },
   "source": [
    "We can see that there are very highly difference between the rows with value 1 and 0 , so decreasing the rows with value 0."
   ]
  },
  {
   "cell_type": "code",
   "execution_count": 13,
   "metadata": {
    "execution": {
     "iopub.execute_input": "2021-01-20T15:40:04.687112Z",
     "iopub.status.busy": "2021-01-20T15:40:04.686418Z",
     "iopub.status.idle": "2021-01-20T15:40:04.913406Z",
     "shell.execute_reply": "2021-01-20T15:40:04.912851Z"
    },
    "papermill": {
     "duration": 0.261973,
     "end_time": "2021-01-20T15:40:04.913543",
     "exception": false,
     "start_time": "2021-01-20T15:40:04.651570",
     "status": "completed"
    },
    "tags": []
   },
   "outputs": [],
   "source": [
    "# Split the data into positive and negative\n",
    "pos = flight_details_january_2019.loc[flight_details_january_2019.DELAYED == 1]\n",
    "neg = flight_details_january_2019.loc[flight_details_january_2019.DELAYED == 0]\n",
    "\n",
    "# Merge the balanced data\n",
    "data = pd.concat([pos, neg.sample(n = len(pos))], axis = 0)\n",
    "\n",
    "# Shuffle the order of data\n",
    "flight_details_january_2019 = data.sample(n = len(data)).reset_index(drop = True)"
   ]
  },
  {
   "cell_type": "code",
   "execution_count": 14,
   "metadata": {
    "execution": {
     "iopub.execute_input": "2021-01-20T15:40:04.983104Z",
     "iopub.status.busy": "2021-01-20T15:40:04.982432Z",
     "iopub.status.idle": "2021-01-20T15:40:04.990690Z",
     "shell.execute_reply": "2021-01-20T15:40:04.990100Z"
    },
    "papermill": {
     "duration": 0.044842,
     "end_time": "2021-01-20T15:40:04.990835",
     "exception": false,
     "start_time": "2021-01-20T15:40:04.945993",
     "status": "completed"
    },
    "tags": []
   },
   "outputs": [
    {
     "data": {
      "text/plain": [
       "1    125239\n",
       "0    125239\n",
       "Name: DELAYED, dtype: int64"
      ]
     },
     "execution_count": 14,
     "metadata": {},
     "output_type": "execute_result"
    }
   ],
   "source": [
    "flight_details_january_2019['DELAYED'].value_counts()"
   ]
  },
  {
   "cell_type": "markdown",
   "metadata": {
    "papermill": {
     "duration": 0.031707,
     "end_time": "2021-01-20T15:40:05.057256",
     "exception": false,
     "start_time": "2021-01-20T15:40:05.025549",
     "status": "completed"
    },
    "tags": []
   },
   "source": [
    "Renaming the headings if needed for more readble format:"
   ]
  },
  {
   "cell_type": "code",
   "execution_count": 15,
   "metadata": {
    "execution": {
     "iopub.execute_input": "2021-01-20T15:40:05.127335Z",
     "iopub.status.busy": "2021-01-20T15:40:05.126759Z",
     "iopub.status.idle": "2021-01-20T15:40:05.138804Z",
     "shell.execute_reply": "2021-01-20T15:40:05.138023Z"
    },
    "papermill": {
     "duration": 0.049064,
     "end_time": "2021-01-20T15:40:05.138960",
     "exception": false,
     "start_time": "2021-01-20T15:40:05.089896",
     "status": "completed"
    },
    "tags": []
   },
   "outputs": [],
   "source": [
    "flight_details_january_2019 = flight_details_january_2019.rename(columns={\"OP_UNIQUE_CARRIER\": \"AIRLINE_CODE\"})"
   ]
  },
  {
   "cell_type": "markdown",
   "metadata": {
    "papermill": {
     "duration": 0.032378,
     "end_time": "2021-01-20T15:40:05.203784",
     "exception": false,
     "start_time": "2021-01-20T15:40:05.171406",
     "status": "completed"
    },
    "tags": []
   },
   "source": [
    "Check for some Null/Na values:"
   ]
  },
  {
   "cell_type": "code",
   "execution_count": 16,
   "metadata": {
    "execution": {
     "iopub.execute_input": "2021-01-20T15:40:05.278095Z",
     "iopub.status.busy": "2021-01-20T15:40:05.277387Z",
     "iopub.status.idle": "2021-01-20T15:40:05.332486Z",
     "shell.execute_reply": "2021-01-20T15:40:05.333013Z"
    },
    "papermill": {
     "duration": 0.094961,
     "end_time": "2021-01-20T15:40:05.333179",
     "exception": false,
     "start_time": "2021-01-20T15:40:05.238218",
     "status": "completed"
    },
    "tags": []
   },
   "outputs": [
    {
     "data": {
      "text/plain": [
       "DAY_OF_MONTH    0\n",
       "DAY_OF_WEEK     0\n",
       "AIRLINE_CODE    0\n",
       "ORIGIN          0\n",
       "DEST            0\n",
       "DEP_TIME        0\n",
       "DEP_TIME_BLK    0\n",
       "ARR_TIME        0\n",
       "DISTANCE        0\n",
       "DELAYED         0\n",
       "dtype: int64"
      ]
     },
     "execution_count": 16,
     "metadata": {},
     "output_type": "execute_result"
    }
   ],
   "source": [
    "flight_details_january_2019.isna().sum()"
   ]
  },
  {
   "cell_type": "markdown",
   "metadata": {
    "papermill": {
     "duration": 0.032683,
     "end_time": "2021-01-20T15:40:05.398572",
     "exception": false,
     "start_time": "2021-01-20T15:40:05.365889",
     "status": "completed"
    },
    "tags": []
   },
   "source": [
    "the data is clean , we dont have any null values."
   ]
  },
  {
   "cell_type": "markdown",
   "metadata": {
    "papermill": {
     "duration": 0.03223,
     "end_time": "2021-01-20T15:40:05.464546",
     "exception": false,
     "start_time": "2021-01-20T15:40:05.432316",
     "status": "completed"
    },
    "tags": []
   },
   "source": [
    "**Summerize**:"
   ]
  },
  {
   "cell_type": "code",
   "execution_count": 17,
   "metadata": {
    "execution": {
     "iopub.execute_input": "2021-01-20T15:40:05.537066Z",
     "iopub.status.busy": "2021-01-20T15:40:05.536392Z",
     "iopub.status.idle": "2021-01-20T15:40:05.594595Z",
     "shell.execute_reply": "2021-01-20T15:40:05.593927Z"
    },
    "papermill": {
     "duration": 0.097812,
     "end_time": "2021-01-20T15:40:05.594726",
     "exception": false,
     "start_time": "2021-01-20T15:40:05.496914",
     "status": "completed"
    },
    "scrolled": true,
    "tags": []
   },
   "outputs": [
    {
     "name": "stdout",
     "output_type": "stream",
     "text": [
      "The Data types is:\n",
      "<class 'pandas.core.frame.DataFrame'>\n",
      "RangeIndex: 250478 entries, 0 to 250477\n",
      "Data columns (total 10 columns):\n",
      " #   Column        Non-Null Count   Dtype  \n",
      "---  ------        --------------   -----  \n",
      " 0   DAY_OF_MONTH  250478 non-null  int64  \n",
      " 1   DAY_OF_WEEK   250478 non-null  int64  \n",
      " 2   AIRLINE_CODE  250478 non-null  object \n",
      " 3   ORIGIN        250478 non-null  object \n",
      " 4   DEST          250478 non-null  object \n",
      " 5   DEP_TIME      250478 non-null  float64\n",
      " 6   DEP_TIME_BLK  250478 non-null  object \n",
      " 7   ARR_TIME      250478 non-null  float64\n",
      " 8   DISTANCE      250478 non-null  float64\n",
      " 9   DELAYED       250478 non-null  int32  \n",
      "dtypes: float64(3), int32(1), int64(2), object(4)\n",
      "memory usage: 18.2+ MB\n"
     ]
    }
   ],
   "source": [
    "print(\"The Data types is:\")\n",
    "flight_details_january_2019.info()"
   ]
  },
  {
   "cell_type": "code",
   "execution_count": 18,
   "metadata": {
    "execution": {
     "iopub.execute_input": "2021-01-20T15:40:05.669041Z",
     "iopub.status.busy": "2021-01-20T15:40:05.668036Z",
     "iopub.status.idle": "2021-01-20T15:40:05.672531Z",
     "shell.execute_reply": "2021-01-20T15:40:05.672048Z"
    },
    "papermill": {
     "duration": 0.043574,
     "end_time": "2021-01-20T15:40:05.672649",
     "exception": false,
     "start_time": "2021-01-20T15:40:05.629075",
     "status": "completed"
    },
    "tags": []
   },
   "outputs": [
    {
     "name": "stdout",
     "output_type": "stream",
     "text": [
      "Our final data include: 250478 Rows and 10 Columns\n"
     ]
    }
   ],
   "source": [
    "print(\"Our final data include: \" + str(flight_details_january_2019.shape[0]) + \" Rows and \" + str(flight_details_january_2019.shape[1]) + \" Columns\" )"
   ]
  },
  {
   "cell_type": "code",
   "execution_count": 19,
   "metadata": {
    "execution": {
     "iopub.execute_input": "2021-01-20T15:40:05.754768Z",
     "iopub.status.busy": "2021-01-20T15:40:05.753804Z",
     "iopub.status.idle": "2021-01-20T15:40:05.758643Z",
     "shell.execute_reply": "2021-01-20T15:40:05.758060Z"
    },
    "papermill": {
     "duration": 0.052957,
     "end_time": "2021-01-20T15:40:05.758780",
     "exception": false,
     "start_time": "2021-01-20T15:40:05.705823",
     "status": "completed"
    },
    "tags": []
   },
   "outputs": [
    {
     "data": {
      "text/html": [
       "<div>\n",
       "<style scoped>\n",
       "    .dataframe tbody tr th:only-of-type {\n",
       "        vertical-align: middle;\n",
       "    }\n",
       "\n",
       "    .dataframe tbody tr th {\n",
       "        vertical-align: top;\n",
       "    }\n",
       "\n",
       "    .dataframe thead th {\n",
       "        text-align: right;\n",
       "    }\n",
       "</style>\n",
       "<table border=\"1\" class=\"dataframe\">\n",
       "  <thead>\n",
       "    <tr style=\"text-align: right;\">\n",
       "      <th></th>\n",
       "      <th>DAY_OF_MONTH</th>\n",
       "      <th>DAY_OF_WEEK</th>\n",
       "      <th>AIRLINE_CODE</th>\n",
       "      <th>ORIGIN</th>\n",
       "      <th>DEST</th>\n",
       "      <th>DEP_TIME</th>\n",
       "      <th>DEP_TIME_BLK</th>\n",
       "      <th>ARR_TIME</th>\n",
       "      <th>DISTANCE</th>\n",
       "      <th>DELAYED</th>\n",
       "    </tr>\n",
       "  </thead>\n",
       "  <tbody>\n",
       "    <tr>\n",
       "      <th>0</th>\n",
       "      <td>23</td>\n",
       "      <td>3</td>\n",
       "      <td>AA</td>\n",
       "      <td>ORD</td>\n",
       "      <td>MIA</td>\n",
       "      <td>838.0</td>\n",
       "      <td>0800-0859</td>\n",
       "      <td>1358.0</td>\n",
       "      <td>1197.0</td>\n",
       "      <td>1</td>\n",
       "    </tr>\n",
       "    <tr>\n",
       "      <th>1</th>\n",
       "      <td>14</td>\n",
       "      <td>1</td>\n",
       "      <td>OO</td>\n",
       "      <td>RIC</td>\n",
       "      <td>LGA</td>\n",
       "      <td>1105.0</td>\n",
       "      <td>1000-1059</td>\n",
       "      <td>1233.0</td>\n",
       "      <td>292.0</td>\n",
       "      <td>1</td>\n",
       "    </tr>\n",
       "    <tr>\n",
       "      <th>2</th>\n",
       "      <td>21</td>\n",
       "      <td>1</td>\n",
       "      <td>WN</td>\n",
       "      <td>MCI</td>\n",
       "      <td>LGA</td>\n",
       "      <td>630.0</td>\n",
       "      <td>0600-0659</td>\n",
       "      <td>1015.0</td>\n",
       "      <td>1107.0</td>\n",
       "      <td>1</td>\n",
       "    </tr>\n",
       "    <tr>\n",
       "      <th>3</th>\n",
       "      <td>6</td>\n",
       "      <td>7</td>\n",
       "      <td>UA</td>\n",
       "      <td>IAH</td>\n",
       "      <td>LGA</td>\n",
       "      <td>1444.0</td>\n",
       "      <td>1400-1459</td>\n",
       "      <td>1920.0</td>\n",
       "      <td>1416.0</td>\n",
       "      <td>0</td>\n",
       "    </tr>\n",
       "    <tr>\n",
       "      <th>4</th>\n",
       "      <td>5</td>\n",
       "      <td>6</td>\n",
       "      <td>OH</td>\n",
       "      <td>SDF</td>\n",
       "      <td>CLT</td>\n",
       "      <td>1342.0</td>\n",
       "      <td>1300-1359</td>\n",
       "      <td>1459.0</td>\n",
       "      <td>335.0</td>\n",
       "      <td>0</td>\n",
       "    </tr>\n",
       "  </tbody>\n",
       "</table>\n",
       "</div>"
      ],
      "text/plain": [
       "   DAY_OF_MONTH  DAY_OF_WEEK AIRLINE_CODE ORIGIN DEST  DEP_TIME DEP_TIME_BLK  \\\n",
       "0            23            3           AA    ORD  MIA     838.0    0800-0859   \n",
       "1            14            1           OO    RIC  LGA    1105.0    1000-1059   \n",
       "2            21            1           WN    MCI  LGA     630.0    0600-0659   \n",
       "3             6            7           UA    IAH  LGA    1444.0    1400-1459   \n",
       "4             5            6           OH    SDF  CLT    1342.0    1300-1359   \n",
       "\n",
       "   ARR_TIME  DISTANCE  DELAYED  \n",
       "0    1358.0    1197.0        1  \n",
       "1    1233.0     292.0        1  \n",
       "2    1015.0    1107.0        1  \n",
       "3    1920.0    1416.0        0  \n",
       "4    1459.0     335.0        0  "
      ]
     },
     "execution_count": 19,
     "metadata": {},
     "output_type": "execute_result"
    }
   ],
   "source": [
    "flight_details_january_2019.head()"
   ]
  },
  {
   "cell_type": "markdown",
   "metadata": {
    "papermill": {
     "duration": 0.033976,
     "end_time": "2021-01-20T15:40:05.828048",
     "exception": false,
     "start_time": "2021-01-20T15:40:05.794072",
     "status": "completed"
    },
    "tags": []
   },
   "source": [
    "**Final Data Format:**\n",
    "\n",
    "After we carefully analyzing each data points, This is the final data:\n",
    "\n",
    "* DAY_OF_MONTH - Day of Month\n",
    "* DAY_OF_WEEK - Day of Week\n",
    "* AIRLINE_CODE - Airline Carrier Code\n",
    "* ORIGIN - Origin airport location\n",
    "* DEST - Destination airport location\n",
    "* DEP_TIME - Actual Departure Time (local time: hhmm)\n",
    "* DEP_TIME_BLK - Time Block Departure (hhmm-hhmm)\n",
    "* ARR_TIME - Actual Arrivel Time (local time: hhmm)\n",
    "* DISTANCE - Distance between airports (miles)\n",
    "* DELAYED - Classifier - 1 If flight delayed, else - 0"
   ]
  },
  {
   "cell_type": "markdown",
   "metadata": {
    "papermill": {
     "duration": 0.03416,
     "end_time": "2021-01-20T15:40:05.896142",
     "exception": false,
     "start_time": "2021-01-20T15:40:05.861982",
     "status": "completed"
    },
    "tags": []
   },
   "source": [
    "# **Exploratory Data Analysis**\n"
   ]
  },
  {
   "cell_type": "markdown",
   "metadata": {
    "papermill": {
     "duration": 0.034306,
     "end_time": "2021-01-20T15:40:05.964410",
     "exception": false,
     "start_time": "2021-01-20T15:40:05.930104",
     "status": "completed"
    },
    "tags": []
   },
   "source": [
    "Histograms:"
   ]
  },
  {
   "cell_type": "code",
   "execution_count": 20,
   "metadata": {
    "execution": {
     "iopub.execute_input": "2021-01-20T15:40:06.040286Z",
     "iopub.status.busy": "2021-01-20T15:40:06.039695Z",
     "iopub.status.idle": "2021-01-20T15:40:07.125816Z",
     "shell.execute_reply": "2021-01-20T15:40:07.126278Z"
    },
    "papermill": {
     "duration": 1.127652,
     "end_time": "2021-01-20T15:40:07.126435",
     "exception": false,
     "start_time": "2021-01-20T15:40:05.998783",
     "status": "completed"
    },
    "tags": []
   },
   "outputs": [
    {
     "data": {
      "text/plain": [
       "array([[<AxesSubplot:title={'center':'DAY_OF_MONTH'}>,\n",
       "        <AxesSubplot:title={'center':'DAY_OF_WEEK'}>],\n",
       "       [<AxesSubplot:title={'center':'DEP_TIME'}>,\n",
       "        <AxesSubplot:title={'center':'ARR_TIME'}>],\n",
       "       [<AxesSubplot:title={'center':'DISTANCE'}>,\n",
       "        <AxesSubplot:title={'center':'DELAYED'}>]], dtype=object)"
      ]
     },
     "execution_count": 20,
     "metadata": {},
     "output_type": "execute_result"
    },
    {
     "data": {
      "image/png": "[encoded data removed]",
      "text/plain": [
       "<Figure size 1080x1008 with 6 Axes>"
      ]
     },
     "metadata": {
      "needs_background": "light"
     },
     "output_type": "display_data"
    }
   ],
   "source": [
    "\n",
    "flight_details_january_2019.hist(figsize= (15, 14))"
   ]
  },
  {
   "cell_type": "code",
   "execution_count": 21,
   "metadata": {
    "execution": {
     "iopub.execute_input": "2021-01-20T15:40:07.204662Z",
     "iopub.status.busy": "2021-01-20T15:40:07.203711Z",
     "iopub.status.idle": "2021-01-20T15:40:07.300803Z",
     "shell.execute_reply": "2021-01-20T15:40:07.300082Z"
    },
    "papermill": {
     "duration": 0.136345,
     "end_time": "2021-01-20T15:40:07.300931",
     "exception": false,
     "start_time": "2021-01-20T15:40:07.164586",
     "status": "completed"
    },
    "tags": []
   },
   "outputs": [
    {
     "data": {
      "text/html": [
       "<div>\n",
       "<style scoped>\n",
       "    .dataframe tbody tr th:only-of-type {\n",
       "        vertical-align: middle;\n",
       "    }\n",
       "\n",
       "    .dataframe tbody tr th {\n",
       "        vertical-align: top;\n",
       "    }\n",
       "\n",
       "    .dataframe thead th {\n",
       "        text-align: right;\n",
       "    }\n",
       "</style>\n",
       "<table border=\"1\" class=\"dataframe\">\n",
       "  <thead>\n",
       "    <tr style=\"text-align: right;\">\n",
       "      <th></th>\n",
       "      <th>DAY_OF_MONTH</th>\n",
       "      <th>DAY_OF_WEEK</th>\n",
       "      <th>DEP_TIME</th>\n",
       "      <th>ARR_TIME</th>\n",
       "      <th>DISTANCE</th>\n",
       "      <th>DELAYED</th>\n",
       "    </tr>\n",
       "  </thead>\n",
       "  <tbody>\n",
       "    <tr>\n",
       "      <th>count</th>\n",
       "      <td>250478.000000</td>\n",
       "      <td>250478.000000</td>\n",
       "      <td>250478.000000</td>\n",
       "      <td>250478.000000</td>\n",
       "      <td>250478.000000</td>\n",
       "      <td>250478.000000</td>\n",
       "    </tr>\n",
       "    <tr>\n",
       "      <th>mean</th>\n",
       "      <td>15.968504</td>\n",
       "      <td>3.840158</td>\n",
       "      <td>1384.994822</td>\n",
       "      <td>1511.828332</td>\n",
       "      <td>811.006719</td>\n",
       "      <td>0.500000</td>\n",
       "    </tr>\n",
       "    <tr>\n",
       "      <th>std</th>\n",
       "      <td>9.027552</td>\n",
       "      <td>1.913346</td>\n",
       "      <td>497.642623</td>\n",
       "      <td>549.411762</td>\n",
       "      <td>593.569444</td>\n",
       "      <td>0.500001</td>\n",
       "    </tr>\n",
       "    <tr>\n",
       "      <th>min</th>\n",
       "      <td>1.000000</td>\n",
       "      <td>1.000000</td>\n",
       "      <td>1.000000</td>\n",
       "      <td>1.000000</td>\n",
       "      <td>31.000000</td>\n",
       "      <td>0.000000</td>\n",
       "    </tr>\n",
       "    <tr>\n",
       "      <th>25%</th>\n",
       "      <td>8.000000</td>\n",
       "      <td>2.000000</td>\n",
       "      <td>1000.000000</td>\n",
       "      <td>1128.000000</td>\n",
       "      <td>370.000000</td>\n",
       "      <td>0.000000</td>\n",
       "    </tr>\n",
       "    <tr>\n",
       "      <th>50%</th>\n",
       "      <td>16.000000</td>\n",
       "      <td>4.000000</td>\n",
       "      <td>1415.000000</td>\n",
       "      <td>1553.000000</td>\n",
       "      <td>651.000000</td>\n",
       "      <td>0.500000</td>\n",
       "    </tr>\n",
       "    <tr>\n",
       "      <th>75%</th>\n",
       "      <td>24.000000</td>\n",
       "      <td>5.000000</td>\n",
       "      <td>1808.000000</td>\n",
       "      <td>1946.000000</td>\n",
       "      <td>1050.000000</td>\n",
       "      <td>1.000000</td>\n",
       "    </tr>\n",
       "    <tr>\n",
       "      <th>max</th>\n",
       "      <td>31.000000</td>\n",
       "      <td>7.000000</td>\n",
       "      <td>2400.000000</td>\n",
       "      <td>2400.000000</td>\n",
       "      <td>4983.000000</td>\n",
       "      <td>1.000000</td>\n",
       "    </tr>\n",
       "  </tbody>\n",
       "</table>\n",
       "</div>"
      ],
      "text/plain": [
       "        DAY_OF_MONTH    DAY_OF_WEEK       DEP_TIME       ARR_TIME  \\\n",
       "count  250478.000000  250478.000000  250478.000000  250478.000000   \n",
       "mean       15.968504       3.840158    1384.994822    1511.828332   \n",
       "std         9.027552       1.913346     497.642623     549.411762   \n",
       "min         1.000000       1.000000       1.000000       1.000000   \n",
       "25%         8.000000       2.000000    1000.000000    1128.000000   \n",
       "50%        16.000000       4.000000    1415.000000    1553.000000   \n",
       "75%        24.000000       5.000000    1808.000000    1946.000000   \n",
       "max        31.000000       7.000000    2400.000000    2400.000000   \n",
       "\n",
       "            DISTANCE        DELAYED  \n",
       "count  250478.000000  250478.000000  \n",
       "mean      811.006719       0.500000  \n",
       "std       593.569444       0.500001  \n",
       "min        31.000000       0.000000  \n",
       "25%       370.000000       0.000000  \n",
       "50%       651.000000       0.500000  \n",
       "75%      1050.000000       1.000000  \n",
       "max      4983.000000       1.000000  "
      ]
     },
     "execution_count": 21,
     "metadata": {},
     "output_type": "execute_result"
    }
   ],
   "source": [
    "flight_details_january_2019.describe()"
   ]
  },
  {
   "cell_type": "markdown",
   "metadata": {
    "papermill": {
     "duration": 0.037237,
     "end_time": "2021-01-20T15:40:07.376786",
     "exception": false,
     "start_time": "2021-01-20T15:40:07.339549",
     "status": "completed"
    },
    "tags": []
   },
   "source": [
    "**Looking for correlations between the features and classifier for better understanding,\n",
    "and learn a more about the features.** \n",
    "\n"
   ]
  },
  {
   "cell_type": "markdown",
   "metadata": {
    "papermill": {
     "duration": 0.039103,
     "end_time": "2021-01-20T15:40:07.453344",
     "exception": false,
     "start_time": "2021-01-20T15:40:07.414241",
     "status": "completed"
    },
    "tags": []
   },
   "source": [
    "First Lets see if there some dfference between airline companies delay, due to result we can understand if there problem with spesific company."
   ]
  },
  {
   "cell_type": "code",
   "execution_count": 22,
   "metadata": {
    "execution": {
     "iopub.execute_input": "2021-01-20T15:40:07.541265Z",
     "iopub.status.busy": "2021-01-20T15:40:07.540596Z",
     "iopub.status.idle": "2021-01-20T15:40:07.788588Z",
     "shell.execute_reply": "2021-01-20T15:40:07.789130Z"
    },
    "papermill": {
     "duration": 0.29851,
     "end_time": "2021-01-20T15:40:07.789282",
     "exception": false,
     "start_time": "2021-01-20T15:40:07.490772",
     "status": "completed"
    },
    "tags": []
   },
   "outputs": [
    {
     "data": {
      "text/plain": [
       "<AxesSubplot:xlabel='AIRLINE_CODE'>"
      ]
     },
     "execution_count": 22,
     "metadata": {},
     "output_type": "execute_result"
    },
    {
     "data": {
      "image/png": "[encoded data removed]",
      "text/plain": [
       "<Figure size 864x504 with 1 Axes>"
      ]
     },
     "metadata": {
      "needs_background": "light"
     },
     "output_type": "display_data"
    }
   ],
   "source": [
    "# Count delayes by company\n",
    "count_delayed=flight_details_january_2019.groupby('AIRLINE_CODE')['DELAYED'].apply(lambda x: (x==1).sum()).reset_index(name='Number Delayed')\n",
    "\n",
    "color = cm.inferno_r(np.linspace(.4, .8, 30))\n",
    "\n",
    "count_delayed= count_delayed.sort_values(\"Number Delayed\" , ascending=[False])\n",
    "count_delayed.plot.bar(x='AIRLINE_CODE', y='Number Delayed', color=color , figsize=(12,7))\n"
   ]
  },
  {
   "cell_type": "markdown",
   "metadata": {
    "papermill": {
     "duration": 0.039602,
     "end_time": "2021-01-20T15:40:07.867760",
     "exception": false,
     "start_time": "2021-01-20T15:40:07.828158",
     "status": "completed"
    },
    "tags": []
   },
   "source": [
    "Correlation between the day of the month to number of delays:"
   ]
  },
  {
   "cell_type": "code",
   "execution_count": 23,
   "metadata": {
    "execution": {
     "iopub.execute_input": "2021-01-20T15:40:07.953720Z",
     "iopub.status.busy": "2021-01-20T15:40:07.952990Z",
     "iopub.status.idle": "2021-01-20T15:40:08.175075Z",
     "shell.execute_reply": "2021-01-20T15:40:08.174395Z"
    },
    "papermill": {
     "duration": 0.264591,
     "end_time": "2021-01-20T15:40:08.175211",
     "exception": false,
     "start_time": "2021-01-20T15:40:07.910620",
     "status": "completed"
    },
    "tags": []
   },
   "outputs": [
    {
     "data": {
      "image/png": "[encoded data removed]",
      "text/plain": [
       "<Figure size 720x432 with 1 Axes>"
      ]
     },
     "metadata": {
      "needs_background": "light"
     },
     "output_type": "display_data"
    }
   ],
   "source": [
    "monthly_days_delayed=flight_details_january_2019.groupby('DAY_OF_MONTH')['DELAYED'].apply(lambda x: (x==1).sum()).reset_index(name='Number Delayed')\n",
    "plt.figure(figsize=(10, 6))\n",
    "plt.xticks(monthly_days_delayed['DAY_OF_MONTH'])\n",
    "plt.plot(monthly_days_delayed['DAY_OF_MONTH'],monthly_days_delayed['Number Delayed'])\n",
    "plt.ylabel('Delayed')\n",
    "plt.xlabel('Day in month')\n",
    "plt.show()"
   ]
  },
  {
   "cell_type": "markdown",
   "metadata": {
    "papermill": {
     "duration": 0.039989,
     "end_time": "2021-01-20T15:40:08.255567",
     "exception": false,
     "start_time": "2021-01-20T15:40:08.215578",
     "status": "completed"
    },
    "tags": []
   },
   "source": [
    "Now lets see if there any corellation between the distance and delays:"
   ]
  },
  {
   "cell_type": "code",
   "execution_count": 24,
   "metadata": {
    "execution": {
     "iopub.execute_input": "2021-01-20T15:40:08.347755Z",
     "iopub.status.busy": "2021-01-20T15:40:08.346741Z",
     "iopub.status.idle": "2021-01-20T15:40:08.469552Z",
     "shell.execute_reply": "2021-01-20T15:40:08.468969Z"
    },
    "papermill": {
     "duration": 0.174028,
     "end_time": "2021-01-20T15:40:08.469687",
     "exception": false,
     "start_time": "2021-01-20T15:40:08.295659",
     "status": "completed"
    },
    "tags": []
   },
   "outputs": [
    {
     "name": "stdout",
     "output_type": "stream",
     "text": [
      "Avergae Distance with delay: 828.707846597306 mile\n",
      "Avergae Distance without delay: 793.3055917086531 mile\n"
     ]
    },
    {
     "data": {
      "image/png": "[encoded data removed]",
      "text/plain": [
       "<Figure size 432x288 with 1 Axes>"
      ]
     },
     "metadata": {},
     "output_type": "display_data"
    }
   ],
   "source": [
    "#Calculate the precent of delays with average distance:\n",
    "avg_distance_delay = flight_details_january_2019[flight_details_january_2019['DELAYED'] == 1]['DISTANCE'].values.mean()\n",
    "#Calculate the precent of delays without average distance:\n",
    "avg_distance_without_delay = flight_details_january_2019[flight_details_january_2019['DELAYED'] == 0]['DISTANCE'].values.mean()\n",
    "\n",
    "print(\"Avergae Distance with delay: \" + str(avg_distance_delay) + \" mile\")\n",
    "print(\"Avergae Distance without delay: \"+ str(avg_distance_without_delay) +\" mile\")\n",
    "\n",
    "labels = ['Distance With Delay', 'Distance Without Delay']\n",
    "sizes = [avg_distance_delay,avg_distance_without_delay]\n",
    "colors = ['yellowgreen', 'gold']\n",
    "texts = plt.pie(sizes, colors=colors, shadow=True, startangle=90, autopct='%1.1f%%')\n",
    "plt.legend(labels, loc=\"best\")\n",
    "plt.axis('equal')\n",
    "plt.tight_layout()\n",
    "plt.show()"
   ]
  },
  {
   "cell_type": "markdown",
   "metadata": {
    "papermill": {
     "duration": 0.039442,
     "end_time": "2021-01-20T15:40:08.548831",
     "exception": false,
     "start_time": "2021-01-20T15:40:08.509389",
     "status": "completed"
    },
    "tags": []
   },
   "source": [
    "Let's see in wich day are the higher number of delays:"
   ]
  },
  {
   "cell_type": "code",
   "execution_count": 25,
   "metadata": {
    "execution": {
     "iopub.execute_input": "2021-01-20T15:40:08.639330Z",
     "iopub.status.busy": "2021-01-20T15:40:08.638647Z",
     "iopub.status.idle": "2021-01-20T15:40:08.819764Z",
     "shell.execute_reply": "2021-01-20T15:40:08.819119Z"
    },
    "papermill": {
     "duration": 0.231164,
     "end_time": "2021-01-20T15:40:08.819879",
     "exception": false,
     "start_time": "2021-01-20T15:40:08.588715",
     "status": "completed"
    },
    "tags": []
   },
   "outputs": [
    {
     "data": {
      "image/png": "[encoded data removed]",
      "text/plain": [
       "<Figure size 864x504 with 1 Axes>"
      ]
     },
     "metadata": {
      "needs_background": "light"
     },
     "output_type": "display_data"
    }
   ],
   "source": [
    "# Create the data for the days adays_values\n",
    "days_values = flight_details_january_2019.groupby('DAY_OF_WEEK')['DELAYED'].apply(lambda x: (x==1).sum()).reset_index(name='Number Delayed')\n",
    "days_values.sort_values(\"DAY_OF_WEEK\" )\n",
    "\n",
    "days_values['DAY_OF_WEEK'] = days_values['DAY_OF_WEEK'].map({1: 'Sun', 2: 'Mon', 3:'Thu',4:'Wed',5:'Thr',6:'Fri',7:'Sat'})\n",
    "\n",
    "df = pd.DataFrame({'Days':days_values['DAY_OF_WEEK'],'Delayed':days_values['Number Delayed']})\n",
    "ax = df.plot.barh(x='Days',y='Delayed',figsize=(12,7))"
   ]
  },
  {
   "cell_type": "markdown",
   "metadata": {
    "papermill": {
     "duration": 0.041407,
     "end_time": "2021-01-20T15:40:08.903715",
     "exception": false,
     "start_time": "2021-01-20T15:40:08.862308",
     "status": "completed"
    },
    "tags": []
   },
   "source": [
    "Encoding categorial Variabels before modeling:\n",
    "* OP_UNIQUE_CARRIER\n",
    "* ORIGIN\n",
    "* DEST\n",
    "* DEST_TIME_BLK"
   ]
  },
  {
   "cell_type": "code",
   "execution_count": 26,
   "metadata": {
    "execution": {
     "iopub.execute_input": "2021-01-20T15:40:08.994702Z",
     "iopub.status.busy": "2021-01-20T15:40:08.993922Z",
     "iopub.status.idle": "2021-01-20T15:40:08.999679Z",
     "shell.execute_reply": "2021-01-20T15:40:08.998631Z"
    },
    "papermill": {
     "duration": 0.054492,
     "end_time": "2021-01-20T15:40:08.999842",
     "exception": false,
     "start_time": "2021-01-20T15:40:08.945350",
     "status": "completed"
    },
    "tags": []
   },
   "outputs": [],
   "source": [
    "def encode_categories(features):\n",
    "    lb_make = LabelEncoder()\n",
    "    for i in range(len(features)):\n",
    "        flight_details_january_2019[features[i]] = lb_make.fit_transform(flight_details_january_2019[features[i]])\n"
   ]
  },
  {
   "cell_type": "code",
   "execution_count": 27,
   "metadata": {
    "execution": {
     "iopub.execute_input": "2021-01-20T15:40:09.112141Z",
     "iopub.status.busy": "2021-01-20T15:40:09.106719Z",
     "iopub.status.idle": "2021-01-20T15:40:09.310002Z",
     "shell.execute_reply": "2021-01-20T15:40:09.309081Z"
    },
    "papermill": {
     "duration": 0.267941,
     "end_time": "2021-01-20T15:40:09.310219",
     "exception": false,
     "start_time": "2021-01-20T15:40:09.042278",
     "status": "completed"
    },
    "tags": []
   },
   "outputs": [
    {
     "name": "stdout",
     "output_type": "stream",
     "text": [
      "<class 'pandas.core.frame.DataFrame'>\n",
      "RangeIndex: 250478 entries, 0 to 250477\n",
      "Data columns (total 10 columns):\n",
      " #   Column        Non-Null Count   Dtype  \n",
      "---  ------        --------------   -----  \n",
      " 0   DAY_OF_MONTH  250478 non-null  int64  \n",
      " 1   DAY_OF_WEEK   250478 non-null  int64  \n",
      " 2   AIRLINE_CODE  250478 non-null  int32  \n",
      " 3   ORIGIN        250478 non-null  int32  \n",
      " 4   DEST          250478 non-null  int32  \n",
      " 5   DEP_TIME      250478 non-null  float64\n",
      " 6   DEP_TIME_BLK  250478 non-null  int32  \n",
      " 7   ARR_TIME      250478 non-null  float64\n",
      " 8   DISTANCE      250478 non-null  float64\n",
      " 9   DELAYED       250478 non-null  int32  \n",
      "dtypes: float64(3), int32(5), int64(2)\n",
      "memory usage: 14.3 MB\n"
     ]
    }
   ],
   "source": [
    "encode_categories(['AIRLINE_CODE','ORIGIN','DEST','DEP_TIME_BLK',])\n",
    "flight_details_january_2019.info()"
   ]
  },
  {
   "cell_type": "markdown",
   "metadata": {
    "papermill": {
     "duration": 0.041978,
     "end_time": "2021-01-20T15:40:09.395187",
     "exception": false,
     "start_time": "2021-01-20T15:40:09.353209",
     "status": "completed"
    },
    "tags": []
   },
   "source": [
    "**Correlations between the features:**"
   ]
  },
  {
   "cell_type": "code",
   "execution_count": 28,
   "metadata": {
    "execution": {
     "iopub.execute_input": "2021-01-20T15:40:09.485738Z",
     "iopub.status.busy": "2021-01-20T15:40:09.484980Z",
     "iopub.status.idle": "2021-01-20T15:40:10.126711Z",
     "shell.execute_reply": "2021-01-20T15:40:10.126143Z"
    },
    "papermill": {
     "duration": 0.689602,
     "end_time": "2021-01-20T15:40:10.126836",
     "exception": false,
     "start_time": "2021-01-20T15:40:09.437234",
     "status": "completed"
    },
    "tags": []
   },
   "outputs": [
    {
     "data": {
      "image/png": "[encoded data removed]",
      "text/plain": [
       "<Figure size 864x720 with 2 Axes>"
      ]
     },
     "metadata": {
      "needs_background": "light"
     },
     "output_type": "display_data"
    }
   ],
   "source": [
    "plt.figure(figsize = (12, 10))\n",
    "sns.heatmap(flight_details_january_2019.corr(), annot = True, cmap = 'coolwarm')\n",
    "plt.show()"
   ]
  },
  {
   "cell_type": "markdown",
   "metadata": {
    "papermill": {
     "duration": 0.042561,
     "end_time": "2021-01-20T15:40:10.214165",
     "exception": false,
     "start_time": "2021-01-20T15:40:10.171604",
     "status": "completed"
    },
    "tags": []
   },
   "source": [
    "# Modeling"
   ]
  },
  {
   "cell_type": "markdown",
   "metadata": {
    "papermill": {
     "duration": 0.042156,
     "end_time": "2021-01-20T15:40:10.299133",
     "exception": false,
     "start_time": "2021-01-20T15:40:10.256977",
     "status": "completed"
    },
    "tags": []
   },
   "source": [
    "Lets first create Test set and Train set:"
   ]
  },
  {
   "cell_type": "code",
   "execution_count": 29,
   "metadata": {
    "execution": {
     "iopub.execute_input": "2021-01-20T15:40:10.395360Z",
     "iopub.status.busy": "2021-01-20T15:40:10.394704Z",
     "iopub.status.idle": "2021-01-20T15:40:10.406765Z",
     "shell.execute_reply": "2021-01-20T15:40:10.407225Z"
    },
    "papermill": {
     "duration": 0.064408,
     "end_time": "2021-01-20T15:40:10.407395",
     "exception": false,
     "start_time": "2021-01-20T15:40:10.342987",
     "status": "completed"
    },
    "tags": []
   },
   "outputs": [],
   "source": [
    "# Create test and train:\n",
    "feature_names = ['DAY_OF_MONTH','DAY_OF_WEEK','AIRLINE_CODE','ORIGIN','DEST','DEP_TIME','DEP_TIME_BLK','ARR_TIME','DISTANCE']\n",
    "X =  flight_details_january_2019[feature_names].values\n",
    "y =  flight_details_january_2019['DELAYED'].values"
   ]
  },
  {
   "cell_type": "code",
   "execution_count": 30,
   "metadata": {
    "execution": {
     "iopub.execute_input": "2021-01-20T15:40:10.497263Z",
     "iopub.status.busy": "2021-01-20T15:40:10.496690Z",
     "iopub.status.idle": "2021-01-20T15:40:10.540733Z",
     "shell.execute_reply": "2021-01-20T15:40:10.541284Z"
    },
    "papermill": {
     "duration": 0.090057,
     "end_time": "2021-01-20T15:40:10.541441",
     "exception": false,
     "start_time": "2021-01-20T15:40:10.451384",
     "status": "completed"
    },
    "tags": []
   },
   "outputs": [],
   "source": [
    "# Split the data\n",
    "X_train, X_test, y_train, y_test = train_test_split(X, y, test_size=0.3, random_state=42)\n",
    "\n"
   ]
  },
  {
   "cell_type": "markdown",
   "metadata": {
    "papermill": {
     "duration": 0.043048,
     "end_time": "2021-01-20T15:40:10.627685",
     "exception": false,
     "start_time": "2021-01-20T15:40:10.584637",
     "status": "completed"
    },
    "tags": []
   },
   "source": [
    "**Random Forest**"
   ]
  },
  {
   "cell_type": "code",
   "execution_count": 31,
   "metadata": {
    "execution": {
     "iopub.execute_input": "2021-01-20T15:40:10.718740Z",
     "iopub.status.busy": "2021-01-20T15:40:10.718049Z",
     "iopub.status.idle": "2021-01-20T15:40:52.328161Z",
     "shell.execute_reply": "2021-01-20T15:40:52.328674Z"
    },
    "papermill": {
     "duration": 41.657537,
     "end_time": "2021-01-20T15:40:52.328814",
     "exception": false,
     "start_time": "2021-01-20T15:40:10.671277",
     "status": "completed"
    },
    "tags": []
   },
   "outputs": [
    {
     "data": {
      "text/html": [
       "<style>#sk-container-id-1 {color: black;background-color: white;}#sk-container-id-1 pre{padding: 0;}#sk-container-id-1 div.sk-toggleable {background-color: white;}#sk-container-id-1 label.sk-toggleable__label {cursor: pointer;display: block;width: 100%;margin-bottom: 0;padding: 0.3em;box-sizing: border-box;text-align: center;}#sk-container-id-1 label.sk-toggleable__label-arrow:before {content: \"▸\";float: left;margin-right: 0.25em;color: #696969;}#sk-container-id-1 label.sk-toggleable__label-arrow:hover:before {color: black;}#sk-container-id-1 div.sk-estimator:hover label.sk-toggleable__label-arrow:before {color: black;}#sk-container-id-1 div.sk-toggleable__content {max-height: 0;max-width: 0;overflow: hidden;text-align: left;background-color: #f0f8ff;}#sk-container-id-1 div.sk-toggleable__content pre {margin: 0.2em;color: black;border-radius: 0.25em;background-color: #f0f8ff;}#sk-container-id-1 input.sk-toggleable__control:checked~div.sk-toggleable__content {max-height: 200px;max-width: 100%;overflow: auto;}#sk-container-id-1 input.sk-toggleable__control:checked~label.sk-toggleable__label-arrow:before {content: \"▾\";}#sk-container-id-1 div.sk-estimator input.sk-toggleable__control:checked~label.sk-toggleable__label {background-color: #d4ebff;}#sk-container-id-1 div.sk-label input.sk-toggleable__control:checked~label.sk-toggleable__label {background-color: #d4ebff;}#sk-container-id-1 input.sk-hidden--visually {border: 0;clip: rect(1px 1px 1px 1px);clip: rect(1px, 1px, 1px, 1px);height: 1px;margin: -1px;overflow: hidden;padding: 0;position: absolute;width: 1px;}#sk-container-id-1 div.sk-estimator {font-family: monospace;background-color: #f0f8ff;border: 1px dotted black;border-radius: 0.25em;box-sizing: border-box;margin-bottom: 0.5em;}#sk-container-id-1 div.sk-estimator:hover {background-color: #d4ebff;}#sk-container-id-1 div.sk-parallel-item::after {content: \"\";width: 100%;border-bottom: 1px solid gray;flex-grow: 1;}#sk-container-id-1 div.sk-label:hover label.sk-toggleable__label {background-color: #d4ebff;}#sk-container-id-1 div.sk-serial::before {content: \"\";position: absolute;border-left: 1px solid gray;box-sizing: border-box;top: 0;bottom: 0;left: 50%;z-index: 0;}#sk-container-id-1 div.sk-serial {display: flex;flex-direction: column;align-items: center;background-color: white;padding-right: 0.2em;padding-left: 0.2em;position: relative;}#sk-container-id-1 div.sk-item {position: relative;z-index: 1;}#sk-container-id-1 div.sk-parallel {display: flex;align-items: stretch;justify-content: center;background-color: white;position: relative;}#sk-container-id-1 div.sk-item::before, #sk-container-id-1 div.sk-parallel-item::before {content: \"\";position: absolute;border-left: 1px solid gray;box-sizing: border-box;top: 0;bottom: 0;left: 50%;z-index: -1;}#sk-container-id-1 div.sk-parallel-item {display: flex;flex-direction: column;z-index: 1;position: relative;background-color: white;}#sk-container-id-1 div.sk-parallel-item:first-child::after {align-self: flex-end;width: 50%;}#sk-container-id-1 div.sk-parallel-item:last-child::after {align-self: flex-start;width: 50%;}#sk-container-id-1 div.sk-parallel-item:only-child::after {width: 0;}#sk-container-id-1 div.sk-dashed-wrapped {border: 1px dashed gray;margin: 0 0.4em 0.5em 0.4em;box-sizing: border-box;padding-bottom: 0.4em;background-color: white;}#sk-container-id-1 div.sk-label label {font-family: monospace;font-weight: bold;display: inline-block;line-height: 1.2em;}#sk-container-id-1 div.sk-label-container {text-align: center;}#sk-container-id-1 div.sk-container {/* jupyter's `normalize.less` sets `[hidden] { display: none; }` but bootstrap.min.css set `[hidden] { display: none !important; }` so we also need the `!important` here to be able to override the default hidden behavior on the sphinx rendered scikit-learn.org. See: https://github.com/scikit-learn/scikit-learn/issues/21755 */display: inline-block !important;position: relative;}#sk-container-id-1 div.sk-text-repr-fallback {display: none;}</style><div id=\"sk-container-id-1\" class=\"sk-top-container\"><div class=\"sk-text-repr-fallback\"><pre>RandomForestClassifier(max_depth=14, min_samples_leaf=15, min_samples_split=5,\n",
       "                       n_estimators=350, n_jobs=-1)</pre><b>In a Jupyter environment, please rerun this cell to show the HTML representation or trust the notebook. <br />On GitHub, the HTML representation is unable to render, please try loading this page with nbviewer.org.</b></div><div class=\"sk-container\" hidden><div class=\"sk-item\"><div class=\"sk-estimator sk-toggleable\"><input class=\"sk-toggleable__control sk-hidden--visually\" id=\"sk-estimator-id-1\" type=\"checkbox\" checked><label for=\"sk-estimator-id-1\" class=\"sk-toggleable__label sk-toggleable__label-arrow\">RandomForestClassifier</label><div class=\"sk-toggleable__content\"><pre>RandomForestClassifier(max_depth=14, min_samples_leaf=15, min_samples_split=5,\n",
       "                       n_estimators=350, n_jobs=-1)</pre></div></div></div></div></div>"
      ],
      "text/plain": [
       "RandomForestClassifier(max_depth=14, min_samples_leaf=15, min_samples_split=5,\n",
       "                       n_estimators=350, n_jobs=-1)"
      ]
     },
     "execution_count": 31,
     "metadata": {},
     "output_type": "execute_result"
    }
   ],
   "source": [
    "rf = sk.RandomForestClassifier(n_estimators = 350,max_depth=14,min_samples_leaf=15,min_samples_split=5, n_jobs=-1)\n",
    "rf.fit(X_train,y_train)"
   ]
  },
  {
   "cell_type": "markdown",
   "metadata": {
    "papermill": {
     "duration": 0.042988,
     "end_time": "2021-01-20T15:40:52.414910",
     "exception": false,
     "start_time": "2021-01-20T15:40:52.371922",
     "status": "completed"
    },
    "tags": []
   },
   "source": [
    "**GradientBoosting**"
   ]
  },
  {
   "cell_type": "code",
   "execution_count": 32,
   "metadata": {
    "execution": {
     "iopub.execute_input": "2021-01-20T15:40:52.507287Z",
     "iopub.status.busy": "2021-01-20T15:40:52.506630Z",
     "iopub.status.idle": "2021-01-20T15:41:26.592080Z",
     "shell.execute_reply": "2021-01-20T15:41:26.592575Z"
    },
    "papermill": {
     "duration": 34.134128,
     "end_time": "2021-01-20T15:41:26.592742",
     "exception": false,
     "start_time": "2021-01-20T15:40:52.458614",
     "status": "completed"
    },
    "tags": []
   },
   "outputs": [
    {
     "data": {
      "text/html": [
       "<style>#sk-container-id-2 {color: black;background-color: white;}#sk-container-id-2 pre{padding: 0;}#sk-container-id-2 div.sk-toggleable {background-color: white;}#sk-container-id-2 label.sk-toggleable__label {cursor: pointer;display: block;width: 100%;margin-bottom: 0;padding: 0.3em;box-sizing: border-box;text-align: center;}#sk-container-id-2 label.sk-toggleable__label-arrow:before {content: \"▸\";float: left;margin-right: 0.25em;color: #696969;}#sk-container-id-2 label.sk-toggleable__label-arrow:hover:before {color: black;}#sk-container-id-2 div.sk-estimator:hover label.sk-toggleable__label-arrow:before {color: black;}#sk-container-id-2 div.sk-toggleable__content {max-height: 0;max-width: 0;overflow: hidden;text-align: left;background-color: #f0f8ff;}#sk-container-id-2 div.sk-toggleable__content pre {margin: 0.2em;color: black;border-radius: 0.25em;background-color: #f0f8ff;}#sk-container-id-2 input.sk-toggleable__control:checked~div.sk-toggleable__content {max-height: 200px;max-width: 100%;overflow: auto;}#sk-container-id-2 input.sk-toggleable__control:checked~label.sk-toggleable__label-arrow:before {content: \"▾\";}#sk-container-id-2 div.sk-estimator input.sk-toggleable__control:checked~label.sk-toggleable__label {background-color: #d4ebff;}#sk-container-id-2 div.sk-label input.sk-toggleable__control:checked~label.sk-toggleable__label {background-color: #d4ebff;}#sk-container-id-2 input.sk-hidden--visually {border: 0;clip: rect(1px 1px 1px 1px);clip: rect(1px, 1px, 1px, 1px);height: 1px;margin: -1px;overflow: hidden;padding: 0;position: absolute;width: 1px;}#sk-container-id-2 div.sk-estimator {font-family: monospace;background-color: #f0f8ff;border: 1px dotted black;border-radius: 0.25em;box-sizing: border-box;margin-bottom: 0.5em;}#sk-container-id-2 div.sk-estimator:hover {background-color: #d4ebff;}#sk-container-id-2 div.sk-parallel-item::after {content: \"\";width: 100%;border-bottom: 1px solid gray;flex-grow: 1;}#sk-container-id-2 div.sk-label:hover label.sk-toggleable__label {background-color: #d4ebff;}#sk-container-id-2 div.sk-serial::before {content: \"\";position: absolute;border-left: 1px solid gray;box-sizing: border-box;top: 0;bottom: 0;left: 50%;z-index: 0;}#sk-container-id-2 div.sk-serial {display: flex;flex-direction: column;align-items: center;background-color: white;padding-right: 0.2em;padding-left: 0.2em;position: relative;}#sk-container-id-2 div.sk-item {position: relative;z-index: 1;}#sk-container-id-2 div.sk-parallel {display: flex;align-items: stretch;justify-content: center;background-color: white;position: relative;}#sk-container-id-2 div.sk-item::before, #sk-container-id-2 div.sk-parallel-item::before {content: \"\";position: absolute;border-left: 1px solid gray;box-sizing: border-box;top: 0;bottom: 0;left: 50%;z-index: -1;}#sk-container-id-2 div.sk-parallel-item {display: flex;flex-direction: column;z-index: 1;position: relative;background-color: white;}#sk-container-id-2 div.sk-parallel-item:first-child::after {align-self: flex-end;width: 50%;}#sk-container-id-2 div.sk-parallel-item:last-child::after {align-self: flex-start;width: 50%;}#sk-container-id-2 div.sk-parallel-item:only-child::after {width: 0;}#sk-container-id-2 div.sk-dashed-wrapped {border: 1px dashed gray;margin: 0 0.4em 0.5em 0.4em;box-sizing: border-box;padding-bottom: 0.4em;background-color: white;}#sk-container-id-2 div.sk-label label {font-family: monospace;font-weight: bold;display: inline-block;line-height: 1.2em;}#sk-container-id-2 div.sk-label-container {text-align: center;}#sk-container-id-2 div.sk-container {/* jupyter's `normalize.less` sets `[hidden] { display: none; }` but bootstrap.min.css set `[hidden] { display: none !important; }` so we also need the `!important` here to be able to override the default hidden behavior on the sphinx rendered scikit-learn.org. See: https://github.com/scikit-learn/scikit-learn/issues/21755 */display: inline-block !important;position: relative;}#sk-container-id-2 div.sk-text-repr-fallback {display: none;}</style><div id=\"sk-container-id-2\" class=\"sk-top-container\"><div class=\"sk-text-repr-fallback\"><pre>GradientBoostingClassifier()</pre><b>In a Jupyter environment, please rerun this cell to show the HTML representation or trust the notebook. <br />On GitHub, the HTML representation is unable to render, please try loading this page with nbviewer.org.</b></div><div class=\"sk-container\" hidden><div class=\"sk-item\"><div class=\"sk-estimator sk-toggleable\"><input class=\"sk-toggleable__control sk-hidden--visually\" id=\"sk-estimator-id-2\" type=\"checkbox\" checked><label for=\"sk-estimator-id-2\" class=\"sk-toggleable__label sk-toggleable__label-arrow\">GradientBoostingClassifier</label><div class=\"sk-toggleable__content\"><pre>GradientBoostingClassifier()</pre></div></div></div></div></div>"
      ],
      "text/plain": [
       "GradientBoostingClassifier()"
      ]
     },
     "execution_count": 32,
     "metadata": {},
     "output_type": "execute_result"
    }
   ],
   "source": [
    "gb = GradientBoostingClassifier()\n",
    "gb.fit(X_train,y_train)"
   ]
  },
  {
   "cell_type": "markdown",
   "metadata": {
    "papermill": {
     "duration": 0.0429,
     "end_time": "2021-01-20T15:41:26.678541",
     "exception": false,
     "start_time": "2021-01-20T15:41:26.635641",
     "status": "completed"
    },
    "tags": []
   },
   "source": [
    "**Decision Tree**"
   ]
  },
  {
   "cell_type": "code",
   "execution_count": 33,
   "metadata": {
    "execution": {
     "iopub.execute_input": "2021-01-20T15:41:26.771764Z",
     "iopub.status.busy": "2021-01-20T15:41:26.770757Z",
     "iopub.status.idle": "2021-01-20T15:41:27.964260Z",
     "shell.execute_reply": "2021-01-20T15:41:27.963707Z"
    },
    "papermill": {
     "duration": 1.242342,
     "end_time": "2021-01-20T15:41:27.964365",
     "exception": false,
     "start_time": "2021-01-20T15:41:26.722023",
     "status": "completed"
    },
    "tags": []
   },
   "outputs": [
    {
     "data": {
      "text/html": [
       "<style>#sk-container-id-3 {color: black;background-color: white;}#sk-container-id-3 pre{padding: 0;}#sk-container-id-3 div.sk-toggleable {background-color: white;}#sk-container-id-3 label.sk-toggleable__label {cursor: pointer;display: block;width: 100%;margin-bottom: 0;padding: 0.3em;box-sizing: border-box;text-align: center;}#sk-container-id-3 label.sk-toggleable__label-arrow:before {content: \"▸\";float: left;margin-right: 0.25em;color: #696969;}#sk-container-id-3 label.sk-toggleable__label-arrow:hover:before {color: black;}#sk-container-id-3 div.sk-estimator:hover label.sk-toggleable__label-arrow:before {color: black;}#sk-container-id-3 div.sk-toggleable__content {max-height: 0;max-width: 0;overflow: hidden;text-align: left;background-color: #f0f8ff;}#sk-container-id-3 div.sk-toggleable__content pre {margin: 0.2em;color: black;border-radius: 0.25em;background-color: #f0f8ff;}#sk-container-id-3 input.sk-toggleable__control:checked~div.sk-toggleable__content {max-height: 200px;max-width: 100%;overflow: auto;}#sk-container-id-3 input.sk-toggleable__control:checked~label.sk-toggleable__label-arrow:before {content: \"▾\";}#sk-container-id-3 div.sk-estimator input.sk-toggleable__control:checked~label.sk-toggleable__label {background-color: #d4ebff;}#sk-container-id-3 div.sk-label input.sk-toggleable__control:checked~label.sk-toggleable__label {background-color: #d4ebff;}#sk-container-id-3 input.sk-hidden--visually {border: 0;clip: rect(1px 1px 1px 1px);clip: rect(1px, 1px, 1px, 1px);height: 1px;margin: -1px;overflow: hidden;padding: 0;position: absolute;width: 1px;}#sk-container-id-3 div.sk-estimator {font-family: monospace;background-color: #f0f8ff;border: 1px dotted black;border-radius: 0.25em;box-sizing: border-box;margin-bottom: 0.5em;}#sk-container-id-3 div.sk-estimator:hover {background-color: #d4ebff;}#sk-container-id-3 div.sk-parallel-item::after {content: \"\";width: 100%;border-bottom: 1px solid gray;flex-grow: 1;}#sk-container-id-3 div.sk-label:hover label.sk-toggleable__label {background-color: #d4ebff;}#sk-container-id-3 div.sk-serial::before {content: \"\";position: absolute;border-left: 1px solid gray;box-sizing: border-box;top: 0;bottom: 0;left: 50%;z-index: 0;}#sk-container-id-3 div.sk-serial {display: flex;flex-direction: column;align-items: center;background-color: white;padding-right: 0.2em;padding-left: 0.2em;position: relative;}#sk-container-id-3 div.sk-item {position: relative;z-index: 1;}#sk-container-id-3 div.sk-parallel {display: flex;align-items: stretch;justify-content: center;background-color: white;position: relative;}#sk-container-id-3 div.sk-item::before, #sk-container-id-3 div.sk-parallel-item::before {content: \"\";position: absolute;border-left: 1px solid gray;box-sizing: border-box;top: 0;bottom: 0;left: 50%;z-index: -1;}#sk-container-id-3 div.sk-parallel-item {display: flex;flex-direction: column;z-index: 1;position: relative;background-color: white;}#sk-container-id-3 div.sk-parallel-item:first-child::after {align-self: flex-end;width: 50%;}#sk-container-id-3 div.sk-parallel-item:last-child::after {align-self: flex-start;width: 50%;}#sk-container-id-3 div.sk-parallel-item:only-child::after {width: 0;}#sk-container-id-3 div.sk-dashed-wrapped {border: 1px dashed gray;margin: 0 0.4em 0.5em 0.4em;box-sizing: border-box;padding-bottom: 0.4em;background-color: white;}#sk-container-id-3 div.sk-label label {font-family: monospace;font-weight: bold;display: inline-block;line-height: 1.2em;}#sk-container-id-3 div.sk-label-container {text-align: center;}#sk-container-id-3 div.sk-container {/* jupyter's `normalize.less` sets `[hidden] { display: none; }` but bootstrap.min.css set `[hidden] { display: none !important; }` so we also need the `!important` here to be able to override the default hidden behavior on the sphinx rendered scikit-learn.org. See: https://github.com/scikit-learn/scikit-learn/issues/21755 */display: inline-block !important;position: relative;}#sk-container-id-3 div.sk-text-repr-fallback {display: none;}</style><div id=\"sk-container-id-3\" class=\"sk-top-container\"><div class=\"sk-text-repr-fallback\"><pre>DecisionTreeClassifier(max_depth=15)</pre><b>In a Jupyter environment, please rerun this cell to show the HTML representation or trust the notebook. <br />On GitHub, the HTML representation is unable to render, please try loading this page with nbviewer.org.</b></div><div class=\"sk-container\" hidden><div class=\"sk-item\"><div class=\"sk-estimator sk-toggleable\"><input class=\"sk-toggleable__control sk-hidden--visually\" id=\"sk-estimator-id-3\" type=\"checkbox\" checked><label for=\"sk-estimator-id-3\" class=\"sk-toggleable__label sk-toggleable__label-arrow\">DecisionTreeClassifier</label><div class=\"sk-toggleable__content\"><pre>DecisionTreeClassifier(max_depth=15)</pre></div></div></div></div></div>"
      ],
      "text/plain": [
       "DecisionTreeClassifier(max_depth=15)"
      ]
     },
     "execution_count": 33,
     "metadata": {},
     "output_type": "execute_result"
    }
   ],
   "source": [
    "dt = DecisionTreeClassifier(max_depth=15)\n",
    "dt.fit(X_train,y_train)"
   ]
  },
  {
   "cell_type": "markdown",
   "metadata": {
    "papermill": {
     "duration": 0.045165,
     "end_time": "2021-01-20T15:41:28.053810",
     "exception": false,
     "start_time": "2021-01-20T15:41:28.008645",
     "status": "completed"
    },
    "tags": []
   },
   "source": [
    "**AdaBoostClassifier**"
   ]
  },
  {
   "cell_type": "code",
   "execution_count": 34,
   "metadata": {
    "execution": {
     "iopub.execute_input": "2021-01-20T15:41:28.150030Z",
     "iopub.status.busy": "2021-01-20T15:41:28.149011Z",
     "iopub.status.idle": "2021-01-20T15:41:36.042277Z",
     "shell.execute_reply": "2021-01-20T15:41:36.041657Z"
    },
    "papermill": {
     "duration": 7.943123,
     "end_time": "2021-01-20T15:41:36.042391",
     "exception": false,
     "start_time": "2021-01-20T15:41:28.099268",
     "status": "completed"
    },
    "tags": []
   },
   "outputs": [
    {
     "data": {
      "text/html": [
       "<style>#sk-container-id-4 {color: black;background-color: white;}#sk-container-id-4 pre{padding: 0;}#sk-container-id-4 div.sk-toggleable {background-color: white;}#sk-container-id-4 label.sk-toggleable__label {cursor: pointer;display: block;width: 100%;margin-bottom: 0;padding: 0.3em;box-sizing: border-box;text-align: center;}#sk-container-id-4 label.sk-toggleable__label-arrow:before {content: \"▸\";float: left;margin-right: 0.25em;color: #696969;}#sk-container-id-4 label.sk-toggleable__label-arrow:hover:before {color: black;}#sk-container-id-4 div.sk-estimator:hover label.sk-toggleable__label-arrow:before {color: black;}#sk-container-id-4 div.sk-toggleable__content {max-height: 0;max-width: 0;overflow: hidden;text-align: left;background-color: #f0f8ff;}#sk-container-id-4 div.sk-toggleable__content pre {margin: 0.2em;color: black;border-radius: 0.25em;background-color: #f0f8ff;}#sk-container-id-4 input.sk-toggleable__control:checked~div.sk-toggleable__content {max-height: 200px;max-width: 100%;overflow: auto;}#sk-container-id-4 input.sk-toggleable__control:checked~label.sk-toggleable__label-arrow:before {content: \"▾\";}#sk-container-id-4 div.sk-estimator input.sk-toggleable__control:checked~label.sk-toggleable__label {background-color: #d4ebff;}#sk-container-id-4 div.sk-label input.sk-toggleable__control:checked~label.sk-toggleable__label {background-color: #d4ebff;}#sk-container-id-4 input.sk-hidden--visually {border: 0;clip: rect(1px 1px 1px 1px);clip: rect(1px, 1px, 1px, 1px);height: 1px;margin: -1px;overflow: hidden;padding: 0;position: absolute;width: 1px;}#sk-container-id-4 div.sk-estimator {font-family: monospace;background-color: #f0f8ff;border: 1px dotted black;border-radius: 0.25em;box-sizing: border-box;margin-bottom: 0.5em;}#sk-container-id-4 div.sk-estimator:hover {background-color: #d4ebff;}#sk-container-id-4 div.sk-parallel-item::after {content: \"\";width: 100%;border-bottom: 1px solid gray;flex-grow: 1;}#sk-container-id-4 div.sk-label:hover label.sk-toggleable__label {background-color: #d4ebff;}#sk-container-id-4 div.sk-serial::before {content: \"\";position: absolute;border-left: 1px solid gray;box-sizing: border-box;top: 0;bottom: 0;left: 50%;z-index: 0;}#sk-container-id-4 div.sk-serial {display: flex;flex-direction: column;align-items: center;background-color: white;padding-right: 0.2em;padding-left: 0.2em;position: relative;}#sk-container-id-4 div.sk-item {position: relative;z-index: 1;}#sk-container-id-4 div.sk-parallel {display: flex;align-items: stretch;justify-content: center;background-color: white;position: relative;}#sk-container-id-4 div.sk-item::before, #sk-container-id-4 div.sk-parallel-item::before {content: \"\";position: absolute;border-left: 1px solid gray;box-sizing: border-box;top: 0;bottom: 0;left: 50%;z-index: -1;}#sk-container-id-4 div.sk-parallel-item {display: flex;flex-direction: column;z-index: 1;position: relative;background-color: white;}#sk-container-id-4 div.sk-parallel-item:first-child::after {align-self: flex-end;width: 50%;}#sk-container-id-4 div.sk-parallel-item:last-child::after {align-self: flex-start;width: 50%;}#sk-container-id-4 div.sk-parallel-item:only-child::after {width: 0;}#sk-container-id-4 div.sk-dashed-wrapped {border: 1px dashed gray;margin: 0 0.4em 0.5em 0.4em;box-sizing: border-box;padding-bottom: 0.4em;background-color: white;}#sk-container-id-4 div.sk-label label {font-family: monospace;font-weight: bold;display: inline-block;line-height: 1.2em;}#sk-container-id-4 div.sk-label-container {text-align: center;}#sk-container-id-4 div.sk-container {/* jupyter's `normalize.less` sets `[hidden] { display: none; }` but bootstrap.min.css set `[hidden] { display: none !important; }` so we also need the `!important` here to be able to override the default hidden behavior on the sphinx rendered scikit-learn.org. See: https://github.com/scikit-learn/scikit-learn/issues/21755 */display: inline-block !important;position: relative;}#sk-container-id-4 div.sk-text-repr-fallback {display: none;}</style><div id=\"sk-container-id-4\" class=\"sk-top-container\"><div class=\"sk-text-repr-fallback\"><pre>AdaBoostClassifier()</pre><b>In a Jupyter environment, please rerun this cell to show the HTML representation or trust the notebook. <br />On GitHub, the HTML representation is unable to render, please try loading this page with nbviewer.org.</b></div><div class=\"sk-container\" hidden><div class=\"sk-item\"><div class=\"sk-estimator sk-toggleable\"><input class=\"sk-toggleable__control sk-hidden--visually\" id=\"sk-estimator-id-4\" type=\"checkbox\" checked><label for=\"sk-estimator-id-4\" class=\"sk-toggleable__label sk-toggleable__label-arrow\">AdaBoostClassifier</label><div class=\"sk-toggleable__content\"><pre>AdaBoostClassifier()</pre></div></div></div></div></div>"
      ],
      "text/plain": [
       "AdaBoostClassifier()"
      ]
     },
     "execution_count": 34,
     "metadata": {},
     "output_type": "execute_result"
    }
   ],
   "source": [
    "ab = AdaBoostClassifier()\n",
    "ab.fit(X_train, y_train)"
   ]
  },
  {
   "cell_type": "markdown",
   "metadata": {
    "papermill": {
     "duration": 0.044677,
     "end_time": "2021-01-20T15:41:36.131981",
     "exception": false,
     "start_time": "2021-01-20T15:41:36.087304",
     "status": "completed"
    },
    "tags": []
   },
   "source": [
    "# Evaluate"
   ]
  },
  {
   "cell_type": "markdown",
   "metadata": {
    "papermill": {
     "duration": 0.04475,
     "end_time": "2021-01-20T15:41:36.221513",
     "exception": false,
     "start_time": "2021-01-20T15:41:36.176763",
     "status": "completed"
    },
    "tags": []
   },
   "source": [
    "Evaluating of accuarcy of the models"
   ]
  },
  {
   "cell_type": "code",
   "execution_count": 35,
   "metadata": {
    "execution": {
     "iopub.execute_input": "2021-01-20T15:41:36.316219Z",
     "iopub.status.busy": "2021-01-20T15:41:36.315440Z",
     "iopub.status.idle": "2021-01-20T15:41:36.319106Z",
     "shell.execute_reply": "2021-01-20T15:41:36.318651Z"
    },
    "papermill": {
     "duration": 0.053105,
     "end_time": "2021-01-20T15:41:36.319215",
     "exception": false,
     "start_time": "2021-01-20T15:41:36.266110",
     "status": "completed"
    },
    "tags": []
   },
   "outputs": [],
   "source": [
    "# Acurracy of each model\n",
    "def get_accuracy(model):\n",
    "        pred = model[0].predict(X_test)\n",
    "        check_overfitting(model)\n",
    "        return accuracy_score(y_test, pred)"
   ]
  },
  {
   "cell_type": "code",
   "execution_count": 36,
   "metadata": {
    "execution": {
     "iopub.execute_input": "2021-01-20T15:41:36.416160Z",
     "iopub.status.busy": "2021-01-20T15:41:36.415210Z",
     "iopub.status.idle": "2021-01-20T15:41:36.417565Z",
     "shell.execute_reply": "2021-01-20T15:41:36.418052Z"
    },
    "papermill": {
     "duration": 0.054234,
     "end_time": "2021-01-20T15:41:36.418184",
     "exception": false,
     "start_time": "2021-01-20T15:41:36.363950",
     "status": "completed"
    },
    "tags": []
   },
   "outputs": [],
   "source": [
    "def check_overfitting(model):\n",
    "        pred = model[0].predict(X_test)\n",
    "        over_fit_check_pred = model[0].predict(X_train)\n",
    "        print('Checking '+ model[1] + ' Overffiting:')\n",
    "        print('Train Accuracy ' + str(accuracy_score(y_train, over_fit_check_pred)))\n",
    "        print('Test Accuracy ' + str(accuracy_score(y_test, pred)))\n",
    "        print('--------------------------')"
   ]
  },
  {
   "cell_type": "code",
   "execution_count": 37,
   "metadata": {
    "execution": {
     "iopub.execute_input": "2021-01-20T15:41:36.512603Z",
     "iopub.status.busy": "2021-01-20T15:41:36.511714Z",
     "iopub.status.idle": "2021-01-20T15:41:36.521258Z",
     "shell.execute_reply": "2021-01-20T15:41:36.520736Z"
    },
    "papermill": {
     "duration": 0.058505,
     "end_time": "2021-01-20T15:41:36.521375",
     "exception": false,
     "start_time": "2021-01-20T15:41:36.462870",
     "status": "completed"
    },
    "tags": []
   },
   "outputs": [],
   "source": [
    "# Plot the confusion matrix for each model:\n",
    "def get_confusion_matrix(model):\n",
    "    from sklearn.metrics import plot_confusion_matrix\n",
    "    class_names=['Delay-False','Delay-true']\n",
    "    disp = plot_confusion_matrix(model[0], X_test, y_test,\n",
    "                                     display_labels=class_names, values_format='d',\n",
    "                                     cmap=model[2])\n",
    "    precision = precision_score(y_test, model[0].predict(X_test), average='binary')\n",
    "    recall = recall_score(y_test, model[0].predict(X_test), average='binary')\n",
    "    print('Avg Precision:' +  str(precision))\n",
    "    print('Avg Recall:' + str(recall))\n",
    "    \n",
    "    disp.ax_.set_title(model[1])\n",
    "    plt.show()"
   ]
  },
  {
   "cell_type": "code",
   "execution_count": 38,
   "metadata": {
    "execution": {
     "iopub.execute_input": "2021-01-20T15:41:36.618512Z",
     "iopub.status.busy": "2021-01-20T15:41:36.617899Z",
     "iopub.status.idle": "2021-01-20T15:41:46.501441Z",
     "shell.execute_reply": "2021-01-20T15:41:46.500958Z"
    },
    "papermill": {
     "duration": 9.935253,
     "end_time": "2021-01-20T15:41:46.501566",
     "exception": false,
     "start_time": "2021-01-20T15:41:36.566313",
     "status": "completed"
    },
    "tags": []
   },
   "outputs": [
    {
     "name": "stdout",
     "output_type": "stream",
     "text": [
      "Checking Random Forest Overffiting:\n",
      "Train Accuracy 0.8245234808993122\n",
      "Test Accuracy 0.7993984882359204\n",
      "--------------------------\n",
      "Checking Gradient Boosting Overffiting:\n",
      "Train Accuracy 0.7758734757662519\n",
      "Test Accuracy 0.7746060896412222\n",
      "--------------------------\n",
      "Checking Decision Tree Overffiting:\n",
      "Train Accuracy 0.8280881061288741\n",
      "Test Accuracy 0.7846268497817523\n",
      "--------------------------\n",
      "Checking AdaBoost Overffiting:\n",
      "Train Accuracy 0.6594898878711488\n",
      "Test Accuracy 0.6582295326306824\n",
      "--------------------------\n"
     ]
    }
   ],
   "source": [
    "### Save the accuracy\n",
    "models = [[rf,'Random Forest',plt.cm.Blues],[gb,'Gradient Boosting',plt.cm.Greens],[dt,'Decision Tree',plt.cm.Reds],[ab,'AdaBoost',plt.cm.Oranges]]\n",
    "accuracy = []\n",
    "for model in models:\n",
    "    accuracy.append(get_accuracy(model))"
   ]
  },
  {
   "cell_type": "markdown",
   "metadata": {
    "papermill": {
     "duration": 0.044841,
     "end_time": "2021-01-20T15:41:46.592855",
     "exception": false,
     "start_time": "2021-01-20T15:41:46.548014",
     "status": "completed"
    },
    "tags": []
   },
   "source": [
    "Show the confusion matrix for each model with Recall and Precision"
   ]
  },
  {
   "cell_type": "code",
   "execution_count": 39,
   "metadata": {
    "execution": {
     "iopub.execute_input": "2021-01-20T15:41:46.688672Z",
     "iopub.status.busy": "2021-01-20T15:41:46.687936Z",
     "iopub.status.idle": "2021-01-20T15:41:54.383554Z",
     "shell.execute_reply": "2021-01-20T15:41:54.382812Z"
    },
    "papermill": {
     "duration": 7.745505,
     "end_time": "2021-01-20T15:41:54.383699",
     "exception": false,
     "start_time": "2021-01-20T15:41:46.638194",
     "status": "completed"
    },
    "tags": []
   },
   "outputs": [
    {
     "name": "stderr",
     "output_type": "stream",
     "text": [
      "c:\\Users\\97798\\AppData\\Local\\Programs\\Python\\Python310\\lib\\site-packages\\sklearn\\utils\\deprecation.py:87: FutureWarning: Function plot_confusion_matrix is deprecated; Function `plot_confusion_matrix` is deprecated in 1.0 and will be removed in 1.2. Use one of the class methods: ConfusionMatrixDisplay.from_predictions or ConfusionMatrixDisplay.from_estimator.\n",
      "  warnings.warn(msg, category=FutureWarning)\n"
     ]
    },
    {
     "name": "stdout",
     "output_type": "stream",
     "text": [
      "Avg Precision:0.8337846282024578\n",
      "Avg Recall:0.7470473752965955\n"
     ]
    },
    {
     "data": {
      "image/png": "[encoded data removed]",
      "text/plain": [
       "<Figure size 432x288 with 2 Axes>"
      ]
     },
     "metadata": {
      "needs_background": "light"
     },
     "output_type": "display_data"
    },
    {
     "name": "stderr",
     "output_type": "stream",
     "text": [
      "c:\\Users\\97798\\AppData\\Local\\Programs\\Python\\Python310\\lib\\site-packages\\sklearn\\utils\\deprecation.py:87: FutureWarning: Function plot_confusion_matrix is deprecated; Function `plot_confusion_matrix` is deprecated in 1.0 and will be removed in 1.2. Use one of the class methods: ConfusionMatrixDisplay.from_predictions or ConfusionMatrixDisplay.from_estimator.\n",
      "  warnings.warn(msg, category=FutureWarning)\n"
     ]
    },
    {
     "name": "stdout",
     "output_type": "stream",
     "text": [
      "Avg Precision:0.860330694317943\n",
      "Avg Recall:0.6547495267802395\n"
     ]
    },
    {
     "data": {
      "image/png": "[encoded data removed]",
      "text/plain": [
       "<Figure size 432x288 with 2 Axes>"
      ]
     },
     "metadata": {
      "needs_background": "light"
     },
     "output_type": "display_data"
    },
    {
     "name": "stdout",
     "output_type": "stream",
     "text": [
      "Avg Precision:0.8398406374501992\n",
      "Avg Recall:0.7024980671305553\n"
     ]
    },
    {
     "name": "stderr",
     "output_type": "stream",
     "text": [
      "c:\\Users\\97798\\AppData\\Local\\Programs\\Python\\Python310\\lib\\site-packages\\sklearn\\utils\\deprecation.py:87: FutureWarning: Function plot_confusion_matrix is deprecated; Function `plot_confusion_matrix` is deprecated in 1.0 and will be removed in 1.2. Use one of the class methods: ConfusionMatrixDisplay.from_predictions or ConfusionMatrixDisplay.from_estimator.\n",
      "  warnings.warn(msg, category=FutureWarning)\n"
     ]
    },
    {
     "data": {
      "image/png": "[encoded data removed]",
      "text/plain": [
       "<Figure size 432x288 with 2 Axes>"
      ]
     },
     "metadata": {
      "needs_background": "light"
     },
     "output_type": "display_data"
    },
    {
     "name": "stderr",
     "output_type": "stream",
     "text": [
      "c:\\Users\\97798\\AppData\\Local\\Programs\\Python\\Python310\\lib\\site-packages\\sklearn\\utils\\deprecation.py:87: FutureWarning: Function plot_confusion_matrix is deprecated; Function `plot_confusion_matrix` is deprecated in 1.0 and will be removed in 1.2. Use one of the class methods: ConfusionMatrixDisplay.from_predictions or ConfusionMatrixDisplay.from_estimator.\n",
      "  warnings.warn(msg, category=FutureWarning)\n"
     ]
    },
    {
     "name": "stdout",
     "output_type": "stream",
     "text": [
      "Avg Precision:0.6556470928855316\n",
      "Avg Recall:0.6641072809192461\n"
     ]
    },
    {
     "data": {
      "image/png": "[encoded data removed]",
      "text/plain": [
       "<Figure size 432x288 with 2 Axes>"
      ]
     },
     "metadata": {
      "needs_background": "light"
     },
     "output_type": "display_data"
    }
   ],
   "source": [
    "for model in models:\n",
    "    get_confusion_matrix(model)"
   ]
  },
  {
   "cell_type": "markdown",
   "metadata": {
    "papermill": {
     "duration": 0.049545,
     "end_time": "2021-01-20T15:41:54.484213",
     "exception": false,
     "start_time": "2021-01-20T15:41:54.434668",
     "status": "completed"
    },
    "tags": []
   },
   "source": [
    "Plot accurcay of each model"
   ]
  },
  {
   "cell_type": "code",
   "execution_count": 40,
   "metadata": {
    "execution": {
     "iopub.execute_input": "2021-01-20T15:41:54.714771Z",
     "iopub.status.busy": "2021-01-20T15:41:54.710010Z",
     "iopub.status.idle": "2021-01-20T15:41:54.851727Z",
     "shell.execute_reply": "2021-01-20T15:41:54.851191Z"
    },
    "papermill": {
     "duration": 0.316952,
     "end_time": "2021-01-20T15:41:54.851839",
     "exception": false,
     "start_time": "2021-01-20T15:41:54.534887",
     "status": "completed"
    },
    "tags": []
   },
   "outputs": [
    {
     "data": {
      "image/png": "[encoded data removed]",
      "text/plain": [
       "<Figure size 1080x360 with 1 Axes>"
      ]
     },
     "metadata": {
      "needs_background": "light"
     },
     "output_type": "display_data"
    }
   ],
   "source": [
    "plt.figure(figsize=(15,5))\n",
    "model_names = ['Random Forest','Gradient Boosting','Decision Tree','AdaBoost']\n",
    "ax = sns.barplot(x = model_names, y =accuracy)\n",
    "\n",
    "accuracy_dic = dict(zip(model_names, accuracy))\n",
    "\n",
    "for p, value in zip(ax.patches, list(accuracy_dic.values())):\n",
    "    _x = p.get_x() + p.get_width() / 2\n",
    "    _y = p.get_y() + p.get_height() + 0.008\n",
    "    ax.text(_x, _y, round(value, 3), ha=\"center\") \n",
    "\n",
    "plt.xlabel(\"Models\")\n",
    "plt.ylabel(\"Accuracy\")\n",
    "plt.title(\"Model vs. Accuracy\")\n",
    "plt.show()"
   ]
  },
  {
   "cell_type": "code",
   "execution_count": 41,
   "metadata": {
    "execution": {
     "iopub.execute_input": "2021-01-20T15:41:54.961313Z",
     "iopub.status.busy": "2021-01-20T15:41:54.960203Z",
     "iopub.status.idle": "2021-01-20T15:41:56.608544Z",
     "shell.execute_reply": "2021-01-20T15:41:56.607725Z"
    },
    "papermill": {
     "duration": 1.705086,
     "end_time": "2021-01-20T15:41:56.608726",
     "exception": false,
     "start_time": "2021-01-20T15:41:54.903640",
     "status": "completed"
    },
    "tags": []
   },
   "outputs": [
    {
     "name": "stdout",
     "output_type": "stream",
     "text": [
      "              precision    recall  f1-score   support\n",
      "\n",
      "     Delayed       0.77      0.85      0.81     37635\n",
      " Not Delayed       0.83      0.75      0.79     37509\n",
      "\n",
      "    accuracy                           0.80     75144\n",
      "   macro avg       0.80      0.80      0.80     75144\n",
      "weighted avg       0.80      0.80      0.80     75144\n",
      "\n"
     ]
    }
   ],
   "source": [
    "print(classification_report(y_test, rf.predict(X_test), target_names=['Delayed','Not Delayed']))"
   ]
  },
  {
   "cell_type": "markdown",
   "metadata": {
    "papermill": {
     "duration": 0.050052,
     "end_time": "2021-01-20T15:41:56.719877",
     "exception": false,
     "start_time": "2021-01-20T15:41:56.669825",
     "status": "completed"
    },
    "tags": []
   },
   "source": [
    "****Feature Importance:****"
   ]
  },
  {
   "cell_type": "code",
   "execution_count": 42,
   "metadata": {
    "execution": {
     "iopub.execute_input": "2021-01-20T15:41:56.829086Z",
     "iopub.status.busy": "2021-01-20T15:41:56.828195Z",
     "iopub.status.idle": "2021-01-20T15:41:57.080782Z",
     "shell.execute_reply": "2021-01-20T15:41:57.080140Z"
    },
    "papermill": {
     "duration": 0.311222,
     "end_time": "2021-01-20T15:41:57.080901",
     "exception": false,
     "start_time": "2021-01-20T15:41:56.769679",
     "status": "completed"
    },
    "tags": []
   },
   "outputs": [
    {
     "data": {
      "image/png": "[encoded data removed]",
      "text/plain": [
       "<Figure size 1080x360 with 1 Axes>"
      ]
     },
     "metadata": {
      "needs_background": "light"
     },
     "output_type": "display_data"
    }
   ],
   "source": [
    "importances = rf.feature_importances_\n",
    "features = list(flight_details_january_2019.columns)\n",
    "indices = np.argsort(importances)[::-1]\n",
    "\n",
    "names = [features[i] for i in indices]\n",
    "\n",
    "plt.figure(figsize=(15,5))\n",
    "plt.bar(range(X_train.shape[1]), importances[indices])\n",
    "plt.xticks(range(X_train.shape[1]), names, rotation=30, fontsize = 10)\n",
    "plt.title(\"Feature Importance\")\n",
    "plt.show()"
   ]
  },
  {
   "cell_type": "markdown",
   "metadata": {
    "papermill": {
     "duration": 0.05167,
     "end_time": "2021-01-20T15:41:57.184300",
     "exception": false,
     "start_time": "2021-01-20T15:41:57.132630",
     "status": "completed"
    },
    "tags": []
   },
   "source": [
    "We see that Random Forest give us the best accuracy. Lets try to change the params for Random forset, and maybe we will get better result."
   ]
  },
  {
   "cell_type": "markdown",
   "metadata": {
    "papermill": {
     "duration": 0.051147,
     "end_time": "2021-01-20T15:41:57.286926",
     "exception": false,
     "start_time": "2021-01-20T15:41:57.235779",
     "status": "completed"
    },
    "tags": []
   },
   "source": [
    "**Hyperparameter tuning for RandomForest**"
   ]
  },
  {
   "cell_type": "markdown",
   "metadata": {
    "papermill": {
     "duration": 0.051403,
     "end_time": "2021-01-20T15:41:57.492042",
     "exception": false,
     "start_time": "2021-01-20T15:41:57.440639",
     "status": "completed"
    },
    "tags": []
   },
   "source": [
    "Test the model again after the optimization and find the good parameters:"
   ]
  },
  {
   "cell_type": "code",
   "execution_count": 43,
   "metadata": {
    "execution": {
     "iopub.execute_input": "2021-01-20T15:41:57.604204Z",
     "iopub.status.busy": "2021-01-20T15:41:57.603169Z",
     "iopub.status.idle": "2021-01-20T15:43:23.287955Z",
     "shell.execute_reply": "2021-01-20T15:43:23.288687Z"
    },
    "papermill": {
     "duration": 85.74483,
     "end_time": "2021-01-20T15:43:23.288891",
     "exception": false,
     "start_time": "2021-01-20T15:41:57.544061",
     "status": "completed"
    },
    "tags": []
   },
   "outputs": [
    {
     "name": "stdout",
     "output_type": "stream",
     "text": [
      "The Accuracy of RandomForest Model before tuning: 0.7993984882359204\n",
      "The Accuracy of RandomForest Model after tuning: 0.8431677845203875\n",
      "Increase of : 5.1910541517384985 %\n"
     ]
    }
   ],
   "source": [
    "# Save the older accur:\n",
    "rf_old_accur = accuracy[0]\n",
    "\n",
    "rf = sk.RandomForestClassifier(n_estimators=200, min_samples_split=5, max_features='sqrt', max_depth=45)\n",
    "rf.fit(X_train,y_train)\n",
    "\n",
    "pred = rf.predict(X_test)\n",
    "rf_new_accur = accuracy_score(y_test, pred)\n",
    "\n",
    "print(\"The Accuracy of RandomForest Model before tuning: \" + str(rf_old_accur))\n",
    "print(\"The Accuracy of RandomForest Model after tuning: \" + str(rf_new_accur))\n",
    "\n",
    "print(\"Increase of : \" + str(100-((rf_old_accur * 100 ) / rf_new_accur ))+' %')"
   ]
  }
 ],
 "metadata": {
  "kernelspec": {
   "display_name": "Python 3.10.5 64-bit",
   "language": "python",
   "name": "python3"
  },
  "language_info": {
   "codemirror_mode": {
    "name": "ipython",
    "version": 3
   },
   "file_extension": ".py",
   "mimetype": "text/x-python",
   "name": "python",
   "nbconvert_exporter": "python",
   "pygments_lexer": "ipython3",
   "version": "3.10.5"
  },
  "papermill": {
   "duration": 209.096409,
   "end_time": "2021-01-20T15:43:23.454280",
   "environment_variables": {},
   "exception": null,
   "input_path": "__notebook__.ipynb",
   "output_path": "__notebook__.ipynb",
   "parameters": {},
   "start_time": "2021-01-20T15:39:54.357871",
   "version": "2.1.0"
  },
  "vscode": {
   "interpreter": {
    "hash": "ba7049391afc107eaaf2942ca4ea78ee8a59488af73053f08261dd4aab8e32f2"
   }
  }
 },
 "nbformat": 4,
 "nbformat_minor": 4
}
